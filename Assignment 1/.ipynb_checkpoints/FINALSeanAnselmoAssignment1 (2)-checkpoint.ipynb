{
 "cells": [
  {
   "cell_type": "markdown",
   "id": "a33a2fea",
   "metadata": {},
   "source": [
    "# Assignment 1\n",
    "\n",
    "## Instructions - Read this first!\n",
    "\n",
    "This is an individual homework assignment. This means that:\n",
    "* You may discuss the problems in this assignment with other students in this course and your instructor/TA, but YOUR WORK MUST BE YOUR OWN.\n",
    "* Do not show other students code or your own work on this assignment.\n",
    "* You may consult external references, but not actively receive help from individuals not involved in this course. \n",
    "* Cite all references outside of the course you used, including conversations with other students which were helpful. (This helps us give credit where it is due!). All references must use a commonly accepted reference format, for example, APA or IEEE (or another citation style of your choice).\n",
    "\n",
    "\n",
    "\n",
    "If any of these rules seem ambiguous, please check with your professors for help interpreting them.\n",
    "\n",
    "Please complete this homework assignment within the Jupypter notebook environment. You may use Anaconda at home or https://datasciencehub.ucalgary.ca. However, all submitted code must be runnable via datasciencehub.\n",
    "\n",
    "\n",
    "## Submission instructions\n",
    "\n",
    "Your submission will be graded manually. To ensure that everything goes smoothly, please follow these instructions to prepare your notebook for submission to the D2L Dropbox for Assignment 1:\n",
    "\n",
    "* Please remove any print statments used to test your work (you can comment them out)\n",
    "* Please provide your solutions where asked; please do not alter any other parts of this notebook.\n",
    "* If you need to add cells to test your code please move them to the end of the notebook before submission- or you may included your commented out answers and tests in the cells provided.\n",
    "\n",
    "In this assignment, we will focus on familiarizing you with using Python to work with files and JSON objects. You will be working with the JSON file **recipes.json**. "
   ]
  },
  {
   "cell_type": "markdown",
   "id": "8d5d980e",
   "metadata": {},
   "source": [
    "# Part A: Warm-up questions (10 marks)\n",
    "\n",
    "**Question 1 (1 mark)**\n",
    "\n",
    "In the cell below, open the json file that you have chosen. Use a for loop and the `readlines()` method to read each line of the file and print it out."
   ]
  },
  {
   "cell_type": "code",
   "execution_count": 2,
   "id": "08b6a2bf",
   "metadata": {},
   "outputs": [
    {
     "name": "stdout",
     "output_type": "stream",
     "text": [
      "{\n",
      "\n",
      "    \"Categories\": [\n",
      "\n",
      "        {\n",
      "\n",
      "            \"CategoryName\": \"Slow Cooker\",\n",
      "\n",
      "            \"Book\": [\n",
      "\n",
      "                {\n",
      "\n",
      "                    \"BookTitle\": \"Slow Cooker Recipes\",\n",
      "\n",
      "                    \"ISBN\": \"978-1234567890\",\n",
      "\n",
      "                    \"Recipes\": [\n",
      "\n",
      "                        {\n",
      "\n",
      "                            \"Recipe\": \"Chicken Stew\",\n",
      "\n",
      "                            \"PreparationTime\": \"30 minutes\",\n",
      "\n",
      "                            \"Ingredients\": [\n",
      "\n",
      "                                \"Chicken thighs\",\n",
      "\n",
      "                                \"Potatoes\",\n",
      "\n",
      "                                \"Thyme\",\n",
      "\n",
      "                                \"Black pepper\",\n",
      "\n",
      "                                \"Parsley\",\n",
      "\n",
      "                                \"Chicken broth\"\n",
      "\n",
      "                            ],\n",
      "\n",
      "                            \"Components\": [\n",
      "\n",
      "                                {\n",
      "\n",
      "                                    \"Recipe\": \"Homemade Chicken Broth\",\n",
      "\n",
      "                                    \"PreparationTime\": \"2 hours\",\n",
      "\n",
      "                                    \"Ingredients\": [\n",
      "\n",
      "                                        \"Chicken bones\",\n",
      "\n",
      "                                        \"Onion\",\n",
      "\n",
      "                                        \"Carrots\",\n",
      "\n",
      "                                        \"Celery\",\n",
      "\n",
      "                                        \"Garlic\",\n",
      "\n",
      "                                        \"Water\",\n",
      "\n",
      "                                        \"Salt\",\n",
      "\n",
      "                                        \"Black pepper\"\n",
      "\n",
      "                                    ]\n",
      "\n",
      "                                },\n",
      "\n",
      "                                {\n",
      "\n",
      "                                    \"Recipe\": \"Garlic Bread\",\n",
      "\n",
      "                                    \"PreparationTime\": \"10 minutes\",\n",
      "\n",
      "                                    \"Ingredients\": [\n",
      "\n",
      "                                        \"Bread\",\n",
      "\n",
      "                                        \"Garlic\",\n",
      "\n",
      "                                        \"Butter\"\n",
      "\n",
      "                                    ]\n",
      "\n",
      "                                }\n",
      "\n",
      "                            ]\n",
      "\n",
      "                        }\n",
      "\n",
      "                    ]\n",
      "\n",
      "                }\n",
      "\n",
      "            ],\n",
      "\n",
      "\n",
      "\n",
      "            \"Blog\": [\n",
      "\n",
      "                {\n",
      "\n",
      "                    \"Title\": \"Slow Cooker Blog\",\n",
      "\n",
      "                    \"Author\": \"Cooking Enthusiast\",\n",
      "\n",
      "                    \"Address\": \"www.example.com/slow-cooker-blog\",\n",
      "\n",
      "                    \"Recipes\": [\n",
      "\n",
      "                        {\n",
      "\n",
      "                            \"Recipe\": \"Beef Chili\",\n",
      "\n",
      "                            \"PreparationTime\": \"20 minutes\",\n",
      "\n",
      "                            \"Ingredients\": [\n",
      "\n",
      "                                \"Ground beef\",\n",
      "\n",
      "                                \"Kidney beans\",\n",
      "\n",
      "                                \"Diced tomatoes\",\n",
      "\n",
      "                                \"Onion\",\n",
      "\n",
      "                                \"Garlic\",\n",
      "\n",
      "                                \"Chili powder\",\n",
      "\n",
      "                                \"Cumin\",\n",
      "\n",
      "                                \"Salt\",\n",
      "\n",
      "                                \"Black pepper\"\n",
      "\n",
      "                            ]\n",
      "\n",
      "                        }\n",
      "\n",
      "                    ]\n",
      "\n",
      "                }\n",
      "\n",
      "            ]\n",
      "\n",
      "        },\n",
      "\n",
      "        {\n",
      "\n",
      "            \"CategoryName\": \"Vegetarian\",\n",
      "\n",
      "            \"Book\": [\n",
      "\n",
      "                {\n",
      "\n",
      "                    \"BookTitle\": \"Vegetarian Delights\",\n",
      "\n",
      "                    \"ISBN\": \"978-3456789012\",\n",
      "\n",
      "                    \"Recipe\": [\n",
      "\n",
      "                        {\n",
      "\n",
      "                            \"Recipe\": \"Black Pepper Tofu\",\n",
      "\n",
      "                            \"PreparationTime\": \"15 minutes\",\n",
      "\n",
      "                            \"Ingredients\": [\n",
      "\n",
      "                                \"Tofu\",\n",
      "\n",
      "                                \"Black pepper\",\n",
      "\n",
      "                                \"Soy sauce\",\n",
      "\n",
      "                                \"Garlic\",\n",
      "\n",
      "                                \"Ginger\",\n",
      "\n",
      "                                \"Green onions\",\n",
      "\n",
      "                                \"Vegetable oil\"\n",
      "\n",
      "                            ]\n",
      "\n",
      "                        }\n",
      "\n",
      "                    ]\n",
      "\n",
      "                }\n",
      "\n",
      "            ],\n",
      "\n",
      "            \"Blog\": [\n",
      "\n",
      "                {\n",
      "\n",
      "                    \"Title\": \"Vegetarian Kitchen\",\n",
      "\n",
      "                    \"Author\": \"Healthy Chef\",\n",
      "\n",
      "                    \"Address\": \"www.example.com/vegetarian-blog\",\n",
      "\n",
      "                    \"Recipes\": [\n",
      "\n",
      "                        {\n",
      "\n",
      "                            \"Recipe\": \"Vegetable Stir-Fry\",\n",
      "\n",
      "                            \"PreparationTime\": \"10 minutes\",\n",
      "\n",
      "                            \"Ingredients\": [\n",
      "\n",
      "                                \"Mixed vegetables\",\n",
      "\n",
      "                                \"Vegetable oil\",\n",
      "\n",
      "                                \"Garlic\",\n",
      "\n",
      "                                \"Soy sauce\",\n",
      "\n",
      "                                \"Sesame oil\",\n",
      "\n",
      "                                \"Honey\"\n",
      "\n",
      "                            ]\n",
      "\n",
      "                        }\n",
      "\n",
      "                    ]\n",
      "\n",
      "                }\n",
      "\n",
      "            ]\n",
      "\n",
      "        }\n",
      "\n",
      "    ]\n",
      "\n",
      "}\n",
      "\n"
     ]
    }
   ],
   "source": [
    "with open('recipes.json', 'r') as file:\n",
    "    lines = file.readlines()\n",
    "\n",
    "j=0\n",
    "for line in lines:\n",
    "    print(line)\n",
    "    j+=1"
   ]
  },
  {
   "cell_type": "markdown",
   "id": "206b5fab",
   "metadata": {},
   "source": [
    "**Question 2 (2 marks)**\n",
    "\n",
    "Using **only Python built-ins**, count how many lines this file contains."
   ]
  },
  {
   "cell_type": "code",
   "execution_count": 3,
   "id": "07c81f7f",
   "metadata": {},
   "outputs": [
    {
     "name": "stdout",
     "output_type": "stream",
     "text": [
      "122\n"
     ]
    }
   ],
   "source": [
    "print(j-1)"
   ]
  },
  {
   "cell_type": "markdown",
   "id": "b9c0a51c",
   "metadata": {},
   "source": [
    "**Question 3 (2 marks)**\n",
    "\n",
    "Use the json library to read the contents of the file into a json object. Output the contents of this object."
   ]
  },
  {
   "cell_type": "code",
   "execution_count": 3,
   "id": "7e9d0e35",
   "metadata": {},
   "outputs": [
    {
     "name": "stdout",
     "output_type": "stream",
     "text": [
      "{'Categories': [{'CategoryName': 'Slow Cooker', 'Book': [{'BookTitle': 'Slow Cooker Recipes', 'ISBN': '978-1234567890', 'Recipes': [{'Recipe': 'Chicken Stew', 'PreparationTime': '30 minutes', 'Ingredients': ['Chicken thighs', 'Potatoes', 'Thyme', 'Black pepper', 'Parsley', 'Chicken broth'], 'Components': [{'Recipe': 'Homemade Chicken Broth', 'PreparationTime': '2 hours', 'Ingredients': ['Chicken bones', 'Onion', 'Carrots', 'Celery', 'Garlic', 'Water', 'Salt', 'Black pepper']}, {'Recipe': 'Garlic Bread', 'PreparationTime': '10 minutes', 'Ingredients': ['Bread', 'Garlic', 'Butter']}]}]}], 'Blog': [{'Title': 'Slow Cooker Blog', 'Author': 'Cooking Enthusiast', 'Address': 'www.example.com/slow-cooker-blog', 'Recipes': [{'Recipe': 'Beef Chili', 'PreparationTime': '20 minutes', 'Ingredients': ['Ground beef', 'Kidney beans', 'Diced tomatoes', 'Onion', 'Garlic', 'Chili powder', 'Cumin', 'Salt', 'Black pepper']}]}]}, {'CategoryName': 'Vegetarian', 'Book': [{'BookTitle': 'Vegetarian Delights', 'ISBN': '978-3456789012', 'Recipe': [{'Recipe': 'Black Pepper Tofu', 'PreparationTime': '15 minutes', 'Ingredients': ['Tofu', 'Black pepper', 'Soy sauce', 'Garlic', 'Ginger', 'Green onions', 'Vegetable oil']}]}], 'Blog': [{'Title': 'Vegetarian Kitchen', 'Author': 'Healthy Chef', 'Address': 'www.example.com/vegetarian-blog', 'Recipes': [{'Recipe': 'Vegetable Stir-Fry', 'PreparationTime': '10 minutes', 'Ingredients': ['Mixed vegetables', 'Vegetable oil', 'Garlic', 'Soy sauce', 'Sesame oil', 'Honey']}]}]}]}\n"
     ]
    }
   ],
   "source": [
    "import json\n",
    "\n",
    "with open('recipes.json', 'r') as file:\n",
    "    json_recipes = json.load(file)\n",
    "\n",
    "print(json_recipes)\n",
    "\n"
   ]
  },
  {
   "cell_type": "markdown",
   "id": "98a2cbef",
   "metadata": {},
   "source": [
    "**Question 4 (5 marks)**\n",
    "\n",
    "Using the json library again, read the contents of the file into a json object, and wrangle the object however you like, using Python built-ins, or by running the results through json library methods a second time. \n",
    "\n",
    "List the names of the Recipes that contain \"Black pepper\" as an ingredient."
   ]
  },
  {
   "cell_type": "code",
   "execution_count": 4,
   "id": "2142a015",
   "metadata": {},
   "outputs": [
    {
     "data": {
      "text/plain": [
       "['Black Pepper Tofu', 'Beef Chili', 'Chicken Stew', 'Homemade Chicken Broth']"
      ]
     },
     "execution_count": 4,
     "metadata": {},
     "output_type": "execute_result"
    }
   ],
   "source": [
    "black_pepper = []\n",
    "stack = [json_recipes]\n",
    "\n",
    "while stack:\n",
    "    current = stack.pop()\n",
    "    if isinstance(current, dict):\n",
    "        if 'Ingredients' in current and 'Black pepper' in current['Ingredients']:\n",
    "            black_pepper.append(current['Recipe'])\n",
    "        stack.extend(current.values())\n",
    "    elif isinstance(current, list):\n",
    "        stack.extend(current)\n",
    "\n",
    "black_pepper"
   ]
  },
  {
   "cell_type": "markdown",
   "id": "f71ebea9",
   "metadata": {},
   "source": [
    "## Part B: Understanding our data (12 marks)"
   ]
  },
  {
   "cell_type": "markdown",
   "id": "989ecbda",
   "metadata": {},
   "source": [
    "**Question 1 (8 marks)**\n",
    "\n",
    "Let's take a look at the contents of recipes.json. Imagine that we will need a CSV for each element of the file which contains data. In the markdown cell below, identify what attributes each element should have. "
   ]
  },
  {
   "cell_type": "markdown",
   "id": "2ede9129",
   "metadata": {},
   "source": [
    "**Category** : \n",
    "\n",
    "**Blog** : \n",
    "\n",
    "**Book** : \n",
    "\n",
    "**Recipes** : \n"
   ]
  },
  {
   "cell_type": "raw",
   "id": "032f5d21-b8d0-4226-9f83-be38323f5091",
   "metadata": {},
   "source": [
    "ANSWER:\n",
    "Category: Category Name\n",
    "\n",
    "Blog: Title, Author, Address\n",
    "\n",
    "Book: Book Title, ISBN\n",
    "\n",
    "Recipes: Recipe, Prperation Time, Ingredients, Components"
   ]
  },
  {
   "cell_type": "markdown",
   "id": "4f5bfa59",
   "metadata": {},
   "source": [
    "**Question 2 (1 mark)**\n",
    "\n",
    "Are there any elements that are missing from the list above?"
   ]
  },
  {
   "cell_type": "markdown",
   "id": "8de2ba93-07ec-429e-8295-e5db20892165",
   "metadata": {},
   "source": [
    "ANSWER: The recipes that lie withhin recipes are missing from this list. Specified in componenets, these are another recipe."
   ]
  },
  {
   "cell_type": "markdown",
   "id": "000c9375",
   "metadata": {},
   "source": [
    "**Question 3 (3 marks)**\n",
    "\n",
    "Of the elements identified at the start of Part B, which is the most difficult to read from our file, and why?"
   ]
  },
  {
   "cell_type": "markdown",
   "id": "7b7f85f1-06be-4ee5-ae13-bbb0c2a2f621",
   "metadata": {},
   "source": [
    "ANSWER: Recipes might be the most difficult to read because there are nested recipes in the ingredients. For example, in the recipes element there is another element: Components, which contains another recipe."
   ]
  },
  {
   "cell_type": "markdown",
   "id": "a77494f0",
   "metadata": {},
   "source": [
    "## Part C: Converting from JSON to CSV (13 marks)"
   ]
  },
  {
   "cell_type": "markdown",
   "id": "5acedb87",
   "metadata": {},
   "source": [
    "Write your own code, using Python built-ins (i.e. no using pandas), the csv and json modules, to convert the data in the provided file into appropriate CSVs for each of your identified elements from Part B, Question 1. You may add additional fields where necessary. Make sure there are no fields with multiple values.\n",
    "\n",
    "Each row of each of your CSVs should contain sufficient information so that they could be used in another program independently of each other. For example, you may be able to write another program which could read your CSV file about recipes to extract information about ingredients and preparation time (maybe even what book the recipe comes from)."
   ]
  },
  {
   "cell_type": "code",
   "execution_count": 32,
   "id": "2c00f96f-6008-400a-8b49-3b748590ff3f",
   "metadata": {},
   "outputs": [],
   "source": [
    "import csv\n",
    "\n",
    "#Start of category csv\n",
    "with open('category.csv','w', newline='') as csvfile:\n",
    "    cat_writer = csv.writer(csvfile)\n",
    "    cat_writer.writerow(['Title',])\n",
    "    for category in json_recipes['Categories']:\n",
    "        cat_writer.writerow([category['CategoryName']])\n",
    "#Start of book csv\n",
    "with open('books.csv', 'w', newline='') as csvfile:\n",
    "    book_writer = csv.writer(csvfile)\n",
    "    book_writer.writerow(['BookTitle','ISBN'])\n",
    "    for category in json_recipes['Categories']:\n",
    "        for book in category.get('Book', []):\n",
    "            book_writer.writerow([\n",
    "                book['BookTitle'], book['ISBN']])\n",
    "#Start of blog csv\n",
    "with open('blogs.csv', 'w', newline='') as csvfile:\n",
    "    blog_writer = csv.writer(csvfile)\n",
    "    blog_writer.writerow(['Title', 'Author', 'Address'])\n",
    "    for category in json_recipes['Categories']:\n",
    "        for blog in category.get('Blog', []):\n",
    "            blog_writer.writerow([\n",
    "                blog['Title'], blog['Author'], blog['Address']])\n",
    "\n",
    "#Start of recipe csv\n",
    "with open('recipes.csv', 'w', newline='') as csvfile:\n",
    "    recipe_writer = csv.writer(csvfile)\n",
    "    recipe_writer.writerow(['RecipeName', 'PreparationTime', 'Ingredients', 'ComponentOf'])\n",
    "\n",
    "    for category in json_recipes['Categories']:\n",
    "        for book in category.get('Book', []):\n",
    "            for recipe in book.get('Recipes', []):\n",
    "                recipe_writer.writerow([\n",
    "                    recipe['Recipe'],recipe['PreparationTime'],\n",
    "                    ', '.join(recipe['Ingredients']),\n",
    "                    \"None\"])\n",
    "                \n",
    "                for component in recipe.get('Components', []):\n",
    "                    recipe_writer.writerow([\n",
    "                        component['Recipe'],component['PreparationTime'],\n",
    "                        ', '.join(component['Ingredients']),\n",
    "                        recipe['Recipe']])\n",
    "\n",
    "        for blog in category.get('Blog', []):\n",
    "            for recipe in blog.get('Recipes', []):\n",
    "                recipe_writer.writerow([\n",
    "                    recipe['Recipe'],recipe['PreparationTime'],\n",
    "                    ', '.join(recipe['Ingredients']),\n",
    "                    \"None\"])"
   ]
  },
  {
   "cell_type": "markdown",
   "id": "2c9c0a8a",
   "metadata": {},
   "source": [
    "## Part D: Reflection (5 marks)\n",
    "\n",
    "In 100 to 250 words, identify a concept you have found difficult or confusing from this assignment. Reflect on how your previous learning or experience helped you to understand this concept. Provide your reflection using markdown in the cell below. "
   ]
  },
  {
   "cell_type": "markdown",
   "id": "c5d8a442",
   "metadata": {},
   "source": [
    "The hardest part of this assignment was converting to CSV, specifically converting the recipes. This is because we had to maintain the rest of the recipes information (Ingredients, PrepTime) while having another recipe buried within. This added another layer of data structures to the csv. My previous experience with pandas and tabular data allowed me to visualize the end goal of what I needed to do. I was also able to follow the example where we converted JSON to CSV. This conversion was a little more difficult because of the nested recipes, but with enough reading I was able to find a set of loops that converts it properly. Dividing each of the necessary csv generation into their own code blocks made it easier to decide whih information I needed to extract and when. That brings us to the next difficult part of the assignment, which was the inability to use pandas."
   ]
  }
 ],
 "metadata": {
  "kernelspec": {
   "display_name": "Python 3 (ipykernel)",
   "language": "python",
   "name": "python3"
  },
  "language_info": {
   "codemirror_mode": {
    "name": "ipython",
    "version": 3
   },
   "file_extension": ".py",
   "mimetype": "text/x-python",
   "name": "python",
   "nbconvert_exporter": "python",
   "pygments_lexer": "ipython3",
   "version": "3.11.6"
  }
 },
 "nbformat": 4,
 "nbformat_minor": 5
}
