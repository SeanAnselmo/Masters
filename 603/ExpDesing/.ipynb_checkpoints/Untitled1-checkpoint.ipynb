{
 "cells": [
  {
   "cell_type": "markdown",
   "id": "74a1160f-4e39-4f1a-be62-c3bc2a6e13f8",
   "metadata": {},
   "source": [
    "Individual Assignment 1\n",
    "\n",
    "Sean Anselmo\n",
    "\n",
    "March 21st 2024"
   ]
  },
  {
   "cell_type": "markdown",
   "id": "4d832ef0-c87f-4300-be9a-31d5ef5ca579",
   "metadata": {},
   "source": [
    "Queries on the European Health Database. This Database is used to document health outcomes across a several different European countries. For this set of queries, we are working with College graduation rate for people aged 25+. "
   ]
  },
  {
   "cell_type": "code",
   "execution_count": null,
   "id": "560ede6d-d2c0-4ab6-be94-8d9db524895c",
   "metadata": {},
   "outputs": [],
   "source": [
    "#Import the dataset into pandas\n",
    "import pandas as pd\n",
    "\n",
    "college = pd.read_csv(\"HFA_39_EN.csv\")\n",
    "college.head()"
   ]
  }
 ],
 "metadata": {
  "kernelspec": {
   "display_name": "Python 3 (ipykernel)",
   "language": "python",
   "name": "python3"
  },
  "language_info": {
   "codemirror_mode": {
    "name": "ipython",
    "version": 3
   },
   "file_extension": ".py",
   "mimetype": "text/x-python",
   "name": "python",
   "nbconvert_exporter": "python",
   "pygments_lexer": "ipython3",
   "version": "3.11.6"
  }
 },
 "nbformat": 4,
 "nbformat_minor": 5
}
