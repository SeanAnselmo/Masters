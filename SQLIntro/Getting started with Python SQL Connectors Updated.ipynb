{
 "cells": [
  {
   "cell_type": "markdown",
   "metadata": {},
   "source": [
    "# Introduction\n",
    "\n",
    "In this notebook, we will show you how to work with a relational database using Python, and a SQL Connector. Connectors are typically provided by the database developer to help programmers write their own programs using that database. They may also be created by third-party developers to help with specific kinds of uses for the database. \n",
    "\n",
    "First, let's open our CSV (`Calgary_Public_Library_Locations_and_Hours.csv`) in pandas. \n",
    "\n",
    "This CSV is provided courtesy of the City of Calgary, under the Open Government License, and can be found here: https://data.calgary.ca/Recreation-and-Culture/Calgary-Public-Library-Locations-and-Hours/m9y7-ui7j"
   ]
  },
  {
   "cell_type": "code",
   "execution_count": 3,
   "metadata": {},
   "outputs": [
    {
     "data": {
      "text/html": [
       "<div>\n",
       "<style scoped>\n",
       "    .dataframe tbody tr th:only-of-type {\n",
       "        vertical-align: middle;\n",
       "    }\n",
       "\n",
       "    .dataframe tbody tr th {\n",
       "        vertical-align: top;\n",
       "    }\n",
       "\n",
       "    .dataframe thead th {\n",
       "        text-align: right;\n",
       "    }\n",
       "</style>\n",
       "<table border=\"1\" class=\"dataframe\">\n",
       "  <thead>\n",
       "    <tr style=\"text-align: right;\">\n",
       "      <th></th>\n",
       "      <th>COUNTRY</th>\n",
       "      <th>COUNTRY_GRP</th>\n",
       "      <th>SEX</th>\n",
       "      <th>YEAR</th>\n",
       "      <th>VALUE</th>\n",
       "    </tr>\n",
       "  </thead>\n",
       "  <tbody>\n",
       "    <tr>\n",
       "      <th>0</th>\n",
       "      <td>ALB</td>\n",
       "      <td>NaN</td>\n",
       "      <td>ALL</td>\n",
       "      <td>2001.0</td>\n",
       "      <td>7.43</td>\n",
       "    </tr>\n",
       "    <tr>\n",
       "      <th>1</th>\n",
       "      <td>ALB</td>\n",
       "      <td>NaN</td>\n",
       "      <td>ALL</td>\n",
       "      <td>2008.0</td>\n",
       "      <td>9.82</td>\n",
       "    </tr>\n",
       "    <tr>\n",
       "      <th>2</th>\n",
       "      <td>ALB</td>\n",
       "      <td>NaN</td>\n",
       "      <td>ALL</td>\n",
       "      <td>2011.0</td>\n",
       "      <td>12.00</td>\n",
       "    </tr>\n",
       "    <tr>\n",
       "      <th>3</th>\n",
       "      <td>AND</td>\n",
       "      <td>NaN</td>\n",
       "      <td>ALL</td>\n",
       "      <td>2003.0</td>\n",
       "      <td>27.81</td>\n",
       "    </tr>\n",
       "    <tr>\n",
       "      <th>4</th>\n",
       "      <td>AND</td>\n",
       "      <td>NaN</td>\n",
       "      <td>ALL</td>\n",
       "      <td>2004.0</td>\n",
       "      <td>30.51</td>\n",
       "    </tr>\n",
       "  </tbody>\n",
       "</table>\n",
       "</div>"
      ],
      "text/plain": [
       "  COUNTRY COUNTRY_GRP  SEX    YEAR  VALUE\n",
       "0     ALB         NaN  ALL  2001.0   7.43\n",
       "1     ALB         NaN  ALL  2008.0   9.82\n",
       "2     ALB         NaN  ALL  2011.0  12.00\n",
       "3     AND         NaN  ALL  2003.0  27.81\n",
       "4     AND         NaN  ALL  2004.0  30.51"
      ]
     },
     "execution_count": 3,
     "metadata": {},
     "output_type": "execute_result"
    }
   ],
   "source": [
    "import pandas as pd\n",
    "\n",
    "cpl_locations = pd.read_csv(\"HFA_39_EN.csv\")\n",
    "cpl_locations.head(5)"
   ]
  },
  {
   "cell_type": "markdown",
   "metadata": {},
   "source": [
    "# Using Python to create a table\n",
    "\n",
    "First, we're going to create your table using the [MySQL Connector](https://dev.mysql.com/doc/connector-python/en/).\n",
    "\n",
    "Always have the documentation for your connector available, as different implementations of database connectors may vary in terms of what methods are available and how they are used.\n",
    "\n",
    "Although we are running MariaDB on the server, we are using the connector from MySQL on the _client side_ as it is compatible with MariaDB."
   ]
  },
  {
   "cell_type": "code",
   "execution_count": 4,
   "metadata": {},
   "outputs": [
    {
     "data": {
      "text/plain": [
       "<mysql.connector.connection_cext.CMySQLConnection at 0x7f4c4cf6cad0>"
      ]
     },
     "execution_count": 4,
     "metadata": {},
     "output_type": "execute_result"
    }
   ],
   "source": [
    "import mysql.connector\n",
    "from mysql.connector import errorcode\n",
    "\n",
    "# uncomment the lines below and fill in any relevant details that need to be changed here, such as if you set up a different user or password\n",
    "\n",
    "#with open(\"password.txt\") as f:\n",
    " #   passw = f.read()\n",
    "    \n",
    "# attempt a connection\n",
    "myconnection = mysql.connector.connect(user='sean_anselmo', \n",
    "                                       password='4i1tawVQFvTUd',\n",
    "                                       host='datasciencedb.ucalgary.ca', \n",
    "                                       database='sean_anselmo',\n",
    "                                       allow_local_infile=True)\n",
    "myconnection"
   ]
  },
  {
   "cell_type": "code",
   "execution_count": 4,
   "metadata": {},
   "outputs": [
    {
     "name": "stdout",
     "output_type": "stream",
     "text": [
      "Table created successfully!\n"
     ]
    },
    {
     "data": {
      "text/plain": [
       "True"
      ]
     },
     "execution_count": 4,
     "metadata": {},
     "output_type": "execute_result"
    }
   ],
   "source": [
    "# CREATE TABLE STATEMENT\n",
    "create_statement = '''create table sean_anselmo.library_locations (\n",
    "    Library varchar(40) NOT NULL,\n",
    "    Postal_Code varchar(7),\n",
    "    Square_Feet int, \n",
    "    Phone_Number varchar(12),\n",
    "    Monday_Open time,\n",
    "    Monday_Close time,\n",
    "    Tuesday_Open time,\n",
    "    Tuesday_Close time,\n",
    "    Wednesday_Open time,\n",
    "    Wednesday_Close time,\n",
    "    Thursday_Open time,\n",
    "    Thursday_Close time,\n",
    "    Friday_Open time,\n",
    "    Friday_Close time,\n",
    "    Saturday_Open time,\n",
    "    Saturday_Close time,\n",
    "    Sunday_Open time,\n",
    "    Sunday_Close time,\n",
    "    Address  varchar(100)\n",
    "    );'''\n",
    "\n",
    "# now we'll create a cursor and run our create statement\n",
    "create_cursor = myconnection.cursor()\n",
    "try:\n",
    "    create_cursor.execute(create_statement)\n",
    "except mysql.connector.Error as err:\n",
    "    if err.errno == errorcode.ER_TABLE_EXISTS_ERROR:\n",
    "        print(\"Ooops! We already have that table\")\n",
    "    else:\n",
    "        print(err.msg)\n",
    "else:\n",
    "    print(\"Table created successfully!\")\n",
    "\n",
    "create_cursor.close()"
   ]
  },
  {
   "cell_type": "code",
   "execution_count": null,
   "metadata": {},
   "outputs": [],
   "source": []
  },
  {
   "cell_type": "markdown",
   "metadata": {},
   "source": [
    "# Using Python to insert data\n",
    "\n",
    "Because we have already built a dataframe with data from our CSV, we are going to use this datafrarame by reading each line, and writing each line into its own insert command.\n",
    "\n",
    "How would you re-write the block of code below to make it more efficient?"
   ]
  },
  {
   "cell_type": "code",
   "execution_count": 8,
   "metadata": {
    "scrolled": true
   },
   "outputs": [
    {
     "name": "stdout",
     "output_type": "stream",
     "text": [
      "Library`,`Postal_Code`,`Square_Feet`,`Phone_Number`,`Monday_Open`,`Monday_Close`,`Tuesday_Open`,`Tuesday_Close`,`Wednesday_Open`,`Wednesday_Close`,`Thursday_Open`,`Thursday_Close`,`Friday_Open`,`Friday_Close`,`Saturday_Open`,`Saturday_Close`,`Sunday_Open`,`Sunday_Close`,`Address\n",
      "('W.R. Castell Central Library', 'T2G 2M2', 177532, '403-260-2600', '9:00', '20:00', '9:00', '20:00', '9:00', '20:00', '9:00', '20:00', '9:00', '17:00', '10:00', '17:00', '12:00', '17:00', '616 Macleod Tr SE\\n(51.0470276, -114.0578995)')\n",
      "INSERT INTO `library_locations` (`Library`,`Postal_Code`,`Square_Feet`,`Phone_Number`,`Monday_Open`,`Monday_Close`,`Tuesday_Open`,`Tuesday_Close`,`Wednesday_Open`,`Wednesday_Close`,`Thursday_Open`,`Thursday_Close`,`Friday_Open`,`Friday_Close`,`Saturday_Open`,`Saturday_Close`,`Sunday_Open`,`Sunday_Close`,`Address`) VALUES (%s,%s,%s,%s,%s,%s,%s,%s,%s,%s,%s,%s,%s,%s,%s,%s,%s,%s,%s)\n",
      "('W.R. Castell Central Library', 'T2G 2M2', 177532, '403-260-2600', '9:00', '20:00', '9:00', '20:00', '9:00', '20:00', '9:00', '20:00', '9:00', '17:00', '10:00', '17:00', '12:00', '17:00', '616 Macleod Tr SE\\n(51.0470276, -114.0578995)')\n",
      "('Alexander Calhoun Library', 'T2T 3V8', 9256, '403-260-2600', '10:00', '21:00', '10:00', '21:00', '10:00', '21:00', '10:00', '21:00', '10:00', '18:00', '10:00', '17:00', '12:00', '17:00', '3223 14 St SW\\n(51.0255318, -114.0947876)')\n",
      "INSERT INTO `library_locations` (`Library`,`Postal_Code`,`Square_Feet`,`Phone_Number`,`Monday_Open`,`Monday_Close`,`Tuesday_Open`,`Tuesday_Close`,`Wednesday_Open`,`Wednesday_Close`,`Thursday_Open`,`Thursday_Close`,`Friday_Open`,`Friday_Close`,`Saturday_Open`,`Saturday_Close`,`Sunday_Open`,`Sunday_Close`,`Address`) VALUES (%s,%s,%s,%s,%s,%s,%s,%s,%s,%s,%s,%s,%s,%s,%s,%s,%s,%s,%s)\n",
      "('Alexander Calhoun Library', 'T2T 3V8', 9256, '403-260-2600', '10:00', '21:00', '10:00', '21:00', '10:00', '21:00', '10:00', '21:00', '10:00', '18:00', '10:00', '17:00', '12:00', '17:00', '3223 14 St SW\\n(51.0255318, -114.0947876)')\n",
      "('Bowness Library', 'T3B 0H3', 7800, '403-260-2600', '13:00', '20:00', '10:00', '20:00', '10:00', '20:00', '10:00', '17:00', '10:00', '17:00', '10:00', '17:00', '12:00', '17:00', '7930 Bowness Rd NW\\n(51.0872841, -114.1830978)')\n",
      "INSERT INTO `library_locations` (`Library`,`Postal_Code`,`Square_Feet`,`Phone_Number`,`Monday_Open`,`Monday_Close`,`Tuesday_Open`,`Tuesday_Close`,`Wednesday_Open`,`Wednesday_Close`,`Thursday_Open`,`Thursday_Close`,`Friday_Open`,`Friday_Close`,`Saturday_Open`,`Saturday_Close`,`Sunday_Open`,`Sunday_Close`,`Address`) VALUES (%s,%s,%s,%s,%s,%s,%s,%s,%s,%s,%s,%s,%s,%s,%s,%s,%s,%s,%s)\n",
      "('Bowness Library', 'T3B 0H3', 7800, '403-260-2600', '13:00', '20:00', '10:00', '20:00', '10:00', '20:00', '10:00', '17:00', '10:00', '17:00', '10:00', '17:00', '12:00', '17:00', '7930 Bowness Rd NW\\n(51.0872841, -114.1830978)')\n",
      "('Fish Creek Library', 'T2J 6S1', 47074, '403-260-2600', '9:00', '21:00', '9:00', '21:00', '9:00', '21:00', '9:00', '21:00', '9:00', '18:00', '9:00', '17:00', '12:00', '17:00', '11161 Bonaventure Dr SE\\n(50.9516296, -114.0603409)')\n",
      "INSERT INTO `library_locations` (`Library`,`Postal_Code`,`Square_Feet`,`Phone_Number`,`Monday_Open`,`Monday_Close`,`Tuesday_Open`,`Tuesday_Close`,`Wednesday_Open`,`Wednesday_Close`,`Thursday_Open`,`Thursday_Close`,`Friday_Open`,`Friday_Close`,`Saturday_Open`,`Saturday_Close`,`Sunday_Open`,`Sunday_Close`,`Address`) VALUES (%s,%s,%s,%s,%s,%s,%s,%s,%s,%s,%s,%s,%s,%s,%s,%s,%s,%s,%s)\n",
      "('Fish Creek Library', 'T2J 6S1', 47074, '403-260-2600', '9:00', '21:00', '9:00', '21:00', '9:00', '21:00', '9:00', '21:00', '9:00', '18:00', '9:00', '17:00', '12:00', '17:00', '11161 Bonaventure Dr SE\\n(50.9516296, -114.0603409)')\n",
      "('Forest Lawn Library', 'T2A 4M1', 16977, '403-260-2600', '10:00', '21:00', '10:00', '21:00', '10:00', '21:00', '10:00', '21:00', '10:00', '18:00', '10:00', '17:00', '12:00', '17:00', '4807 8 Av SE\\n(51.045105, -113.9652023)')\n",
      "INSERT INTO `library_locations` (`Library`,`Postal_Code`,`Square_Feet`,`Phone_Number`,`Monday_Open`,`Monday_Close`,`Tuesday_Open`,`Tuesday_Close`,`Wednesday_Open`,`Wednesday_Close`,`Thursday_Open`,`Thursday_Close`,`Friday_Open`,`Friday_Close`,`Saturday_Open`,`Saturday_Close`,`Sunday_Open`,`Sunday_Close`,`Address`) VALUES (%s,%s,%s,%s,%s,%s,%s,%s,%s,%s,%s,%s,%s,%s,%s,%s,%s,%s,%s)\n",
      "('Forest Lawn Library', 'T2A 4M1', 16977, '403-260-2600', '10:00', '21:00', '10:00', '21:00', '10:00', '21:00', '10:00', '21:00', '10:00', '18:00', '10:00', '17:00', '12:00', '17:00', '4807 8 Av SE\\n(51.045105, -113.9652023)')\n",
      "('Glenmore Square Library', 'T2C 2N5', 6068, '403-260-2600', '10:00', '21:00', '10:00', '21:00', '13:00', '21:00', '10:00', '21:00', '10:00', '17:00', '10:00', '17:00', '12:00', '17:00', '7740 18 St SE\\n(50.9835968, -114.0141449)')\n",
      "INSERT INTO `library_locations` (`Library`,`Postal_Code`,`Square_Feet`,`Phone_Number`,`Monday_Open`,`Monday_Close`,`Tuesday_Open`,`Tuesday_Close`,`Wednesday_Open`,`Wednesday_Close`,`Thursday_Open`,`Thursday_Close`,`Friday_Open`,`Friday_Close`,`Saturday_Open`,`Saturday_Close`,`Sunday_Open`,`Sunday_Close`,`Address`) VALUES (%s,%s,%s,%s,%s,%s,%s,%s,%s,%s,%s,%s,%s,%s,%s,%s,%s,%s,%s)\n",
      "('Glenmore Square Library', 'T2C 2N5', 6068, '403-260-2600', '10:00', '21:00', '10:00', '21:00', '13:00', '21:00', '10:00', '21:00', '10:00', '17:00', '10:00', '17:00', '12:00', '17:00', '7740 18 St SE\\n(50.9835968, -114.0141449)')\n",
      "('Louise Riley Library', 'T2N 1M5', 14191, '403-260-2600', '10:00', '21:00', '10:00', '21:00', '10:00', '21:00', '10:00', '21:00', '10:00', '18:00', '10:00', '17:00', '12:00', '17:00', '1904 14 Av NW\\n(51.0652428, -114.1038132)')\n",
      "INSERT INTO `library_locations` (`Library`,`Postal_Code`,`Square_Feet`,`Phone_Number`,`Monday_Open`,`Monday_Close`,`Tuesday_Open`,`Tuesday_Close`,`Wednesday_Open`,`Wednesday_Close`,`Thursday_Open`,`Thursday_Close`,`Friday_Open`,`Friday_Close`,`Saturday_Open`,`Saturday_Close`,`Sunday_Open`,`Sunday_Close`,`Address`) VALUES (%s,%s,%s,%s,%s,%s,%s,%s,%s,%s,%s,%s,%s,%s,%s,%s,%s,%s,%s)\n",
      "('Louise Riley Library', 'T2N 1M5', 14191, '403-260-2600', '10:00', '21:00', '10:00', '21:00', '10:00', '21:00', '10:00', '21:00', '10:00', '18:00', '10:00', '17:00', '12:00', '17:00', '1904 14 Av NW\\n(51.0652428, -114.1038132)')\n",
      "('Memorial Park Library', 'T2R 0W5', 19397, '403-260-2600', '10:00', '17:00', '12:00', '20:00', '12:00', '20:00', '12:00', '20:00', '10:00', '18:00', '10:00', '17:00', '12:00', '17:00', '1221 2 St SW\\n(51.0412674, -114.0683823)')\n",
      "INSERT INTO `library_locations` (`Library`,`Postal_Code`,`Square_Feet`,`Phone_Number`,`Monday_Open`,`Monday_Close`,`Tuesday_Open`,`Tuesday_Close`,`Wednesday_Open`,`Wednesday_Close`,`Thursday_Open`,`Thursday_Close`,`Friday_Open`,`Friday_Close`,`Saturday_Open`,`Saturday_Close`,`Sunday_Open`,`Sunday_Close`,`Address`) VALUES (%s,%s,%s,%s,%s,%s,%s,%s,%s,%s,%s,%s,%s,%s,%s,%s,%s,%s,%s)\n",
      "('Memorial Park Library', 'T2R 0W5', 19397, '403-260-2600', '10:00', '17:00', '12:00', '20:00', '12:00', '20:00', '12:00', '20:00', '10:00', '18:00', '10:00', '17:00', '12:00', '17:00', '1221 2 St SW\\n(51.0412674, -114.0683823)')\n",
      "('Nose Hill Library', 'T2L 0G6', 17782, '403-260-2600', '10:00', '21:00', '10:00', '21:00', '10:00', '21:00', '10:00', '21:00', '10:00', '18:00', '10:00', '17:00', '12:00', '17:00', '1530 Northmount Dr NW\\n(51.0960922, -114.1391296)')\n",
      "INSERT INTO `library_locations` (`Library`,`Postal_Code`,`Square_Feet`,`Phone_Number`,`Monday_Open`,`Monday_Close`,`Tuesday_Open`,`Tuesday_Close`,`Wednesday_Open`,`Wednesday_Close`,`Thursday_Open`,`Thursday_Close`,`Friday_Open`,`Friday_Close`,`Saturday_Open`,`Saturday_Close`,`Sunday_Open`,`Sunday_Close`,`Address`) VALUES (%s,%s,%s,%s,%s,%s,%s,%s,%s,%s,%s,%s,%s,%s,%s,%s,%s,%s,%s)\n",
      "('Nose Hill Library', 'T2L 0G6', 17782, '403-260-2600', '10:00', '21:00', '10:00', '21:00', '10:00', '21:00', '10:00', '21:00', '10:00', '18:00', '10:00', '17:00', '12:00', '17:00', '1530 Northmount Dr NW\\n(51.0960922, -114.1391296)')\n",
      "('Shawnessy Library', 'T2Y 4H3', 18847, '403-260-2600', '9:00', '21:00', '9:00', '21:00', '9:00', '21:00', '9:00', '21:00', '9:00', '18:00', '9:00', '17:00', '12:00', '17:00', '333 Shawville Bv SE\\n(50.8986015, -114.062851)')\n",
      "INSERT INTO `library_locations` (`Library`,`Postal_Code`,`Square_Feet`,`Phone_Number`,`Monday_Open`,`Monday_Close`,`Tuesday_Open`,`Tuesday_Close`,`Wednesday_Open`,`Wednesday_Close`,`Thursday_Open`,`Thursday_Close`,`Friday_Open`,`Friday_Close`,`Saturday_Open`,`Saturday_Close`,`Sunday_Open`,`Sunday_Close`,`Address`) VALUES (%s,%s,%s,%s,%s,%s,%s,%s,%s,%s,%s,%s,%s,%s,%s,%s,%s,%s,%s)\n",
      "('Shawnessy Library', 'T2Y 4H3', 18847, '403-260-2600', '9:00', '21:00', '9:00', '21:00', '9:00', '21:00', '9:00', '21:00', '9:00', '18:00', '9:00', '17:00', '12:00', '17:00', '333 Shawville Bv SE\\n(50.8986015, -114.062851)')\n",
      "('Signal Hill Library', 'T3H 3P8', 18470, '403-260-2600', '10:00', '21:00', '10:00', '21:00', '10:00', '21:00', '10:00', '21:00', '10:00', '18:00', '10:00', '17:00', '12:00', '17:00', '5994 Signal Hill Ce SW\\n(51.0181122, -114.1756439)')\n",
      "INSERT INTO `library_locations` (`Library`,`Postal_Code`,`Square_Feet`,`Phone_Number`,`Monday_Open`,`Monday_Close`,`Tuesday_Open`,`Tuesday_Close`,`Wednesday_Open`,`Wednesday_Close`,`Thursday_Open`,`Thursday_Close`,`Friday_Open`,`Friday_Close`,`Saturday_Open`,`Saturday_Close`,`Sunday_Open`,`Sunday_Close`,`Address`) VALUES (%s,%s,%s,%s,%s,%s,%s,%s,%s,%s,%s,%s,%s,%s,%s,%s,%s,%s,%s)\n",
      "('Signal Hill Library', 'T3H 3P8', 18470, '403-260-2600', '10:00', '21:00', '10:00', '21:00', '10:00', '21:00', '10:00', '21:00', '10:00', '18:00', '10:00', '17:00', '12:00', '17:00', '5994 Signal Hill Ce SW\\n(51.0181122, -114.1756439)')\n",
      "('Southwood Library', 'T2W 0J9', 6779, '403-260-2600', '10:00', '21:00', '10:00', '21:00', '10:00', '21:00', '10:00', '21:00', '10:00', '18:00', '10:00', '17:00', '12:00', '17:00', '924 Southland Dr SW\\n(50.963623, -114.0860367)')\n",
      "INSERT INTO `library_locations` (`Library`,`Postal_Code`,`Square_Feet`,`Phone_Number`,`Monday_Open`,`Monday_Close`,`Tuesday_Open`,`Tuesday_Close`,`Wednesday_Open`,`Wednesday_Close`,`Thursday_Open`,`Thursday_Close`,`Friday_Open`,`Friday_Close`,`Saturday_Open`,`Saturday_Close`,`Sunday_Open`,`Sunday_Close`,`Address`) VALUES (%s,%s,%s,%s,%s,%s,%s,%s,%s,%s,%s,%s,%s,%s,%s,%s,%s,%s,%s)\n",
      "('Southwood Library', 'T2W 0J9', 6779, '403-260-2600', '10:00', '21:00', '10:00', '21:00', '10:00', '21:00', '10:00', '21:00', '10:00', '18:00', '10:00', '17:00', '12:00', '17:00', '924 Southland Dr SW\\n(50.963623, -114.0860367)')\n",
      "('Judith Umbach Library', 'T2K 4Y5', 7921, '403-260-2600', '10:00', '21:00', '10:00', '21:00', '10:00', '21:00', '10:00', '21:00', '10:00', '18:00', '10:00', '17:00', '12:00', '17:00', '6617 Centre St N\\n(51.1121979, -114.0633087)')\n",
      "INSERT INTO `library_locations` (`Library`,`Postal_Code`,`Square_Feet`,`Phone_Number`,`Monday_Open`,`Monday_Close`,`Tuesday_Open`,`Tuesday_Close`,`Wednesday_Open`,`Wednesday_Close`,`Thursday_Open`,`Thursday_Close`,`Friday_Open`,`Friday_Close`,`Saturday_Open`,`Saturday_Close`,`Sunday_Open`,`Sunday_Close`,`Address`) VALUES (%s,%s,%s,%s,%s,%s,%s,%s,%s,%s,%s,%s,%s,%s,%s,%s,%s,%s,%s)\n",
      "('Judith Umbach Library', 'T2K 4Y5', 7921, '403-260-2600', '10:00', '21:00', '10:00', '21:00', '10:00', '21:00', '10:00', '21:00', '10:00', '18:00', '10:00', '17:00', '12:00', '17:00', '6617 Centre St N\\n(51.1121979, -114.0633087)')\n",
      "('Village Square Library', 'T1Y 6E7', 19064, '403-260-2600', '9:00', '21:00', '9:00', '21:00', '9:00', '21:00', '9:00', '21:00', '9:00', '18:00', '9:00', '17:00', '12:00', '17:00', '2623 56 St NE\\n(51.0753708, -113.9525833)')\n",
      "INSERT INTO `library_locations` (`Library`,`Postal_Code`,`Square_Feet`,`Phone_Number`,`Monday_Open`,`Monday_Close`,`Tuesday_Open`,`Tuesday_Close`,`Wednesday_Open`,`Wednesday_Close`,`Thursday_Open`,`Thursday_Close`,`Friday_Open`,`Friday_Close`,`Saturday_Open`,`Saturday_Close`,`Sunday_Open`,`Sunday_Close`,`Address`) VALUES (%s,%s,%s,%s,%s,%s,%s,%s,%s,%s,%s,%s,%s,%s,%s,%s,%s,%s,%s)\n",
      "('Village Square Library', 'T1Y 6E7', 19064, '403-260-2600', '9:00', '21:00', '9:00', '21:00', '9:00', '21:00', '9:00', '21:00', '9:00', '18:00', '9:00', '17:00', '12:00', '17:00', '2623 56 St NE\\n(51.0753708, -113.9525833)')\n",
      "('Crowfoot Library', 'T3G 5T3', 28506, '403-260-2600', '9:00', '21:00', '9:00', '21:00', '9:00', '21:00', '9:00', '21:00', '9:00', '18:00', '9:00', '17:00', '12:00', '17:00', '8685 Nose hill Dr NW\\n(51.1295815, -114.1926956)')\n",
      "INSERT INTO `library_locations` (`Library`,`Postal_Code`,`Square_Feet`,`Phone_Number`,`Monday_Open`,`Monday_Close`,`Tuesday_Open`,`Tuesday_Close`,`Wednesday_Open`,`Wednesday_Close`,`Thursday_Open`,`Thursday_Close`,`Friday_Open`,`Friday_Close`,`Saturday_Open`,`Saturday_Close`,`Sunday_Open`,`Sunday_Close`,`Address`) VALUES (%s,%s,%s,%s,%s,%s,%s,%s,%s,%s,%s,%s,%s,%s,%s,%s,%s,%s,%s)\n",
      "('Crowfoot Library', 'T3G 5T3', 28506, '403-260-2600', '9:00', '21:00', '9:00', '21:00', '9:00', '21:00', '9:00', '21:00', '9:00', '18:00', '9:00', '17:00', '12:00', '17:00', '8685 Nose hill Dr NW\\n(51.1295815, -114.1926956)')\n",
      "('Country Hills Library', 'T3K 6E3', 18127, '403-260-2600', '10:00', '21:00', '10:00', '21:00', '10:00', '21:00', '10:00', '21:00', '10:00', '18:00', '10:00', '17:00', '12:00', '17:00', '388 Country Hills Bv NE\\n(51.159462, -114.0675659)')\n",
      "INSERT INTO `library_locations` (`Library`,`Postal_Code`,`Square_Feet`,`Phone_Number`,`Monday_Open`,`Monday_Close`,`Tuesday_Open`,`Tuesday_Close`,`Wednesday_Open`,`Wednesday_Close`,`Thursday_Open`,`Thursday_Close`,`Friday_Open`,`Friday_Close`,`Saturday_Open`,`Saturday_Close`,`Sunday_Open`,`Sunday_Close`,`Address`) VALUES (%s,%s,%s,%s,%s,%s,%s,%s,%s,%s,%s,%s,%s,%s,%s,%s,%s,%s,%s)\n",
      "('Country Hills Library', 'T3K 6E3', 18127, '403-260-2600', '10:00', '21:00', '10:00', '21:00', '10:00', '21:00', '10:00', '21:00', '10:00', '18:00', '10:00', '17:00', '12:00', '17:00', '388 Country Hills Bv NE\\n(51.159462, -114.0675659)')\n",
      "('Saddletowne Library', 'T3J 0C9', 18783, '403-260-2600', '10:00', '21:00', '10:00', '21:00', '10:00', '21:00', '10:00', '21:00', '10:00', '18:00', '10:00', '17:00', '12:00', '17:00', '7556 Falconridge Bl NE\\n(51.1196709, -113.9485092)')\n",
      "INSERT INTO `library_locations` (`Library`,`Postal_Code`,`Square_Feet`,`Phone_Number`,`Monday_Open`,`Monday_Close`,`Tuesday_Open`,`Tuesday_Close`,`Wednesday_Open`,`Wednesday_Close`,`Thursday_Open`,`Thursday_Close`,`Friday_Open`,`Friday_Close`,`Saturday_Open`,`Saturday_Close`,`Sunday_Open`,`Sunday_Close`,`Address`) VALUES (%s,%s,%s,%s,%s,%s,%s,%s,%s,%s,%s,%s,%s,%s,%s,%s,%s,%s,%s)\n",
      "('Saddletowne Library', 'T3J 0C9', 18783, '403-260-2600', '10:00', '21:00', '10:00', '21:00', '10:00', '21:00', '10:00', '21:00', '10:00', '18:00', '10:00', '17:00', '12:00', '17:00', '7556 Falconridge Bl NE\\n(51.1196709, -113.9485092)')\n",
      "('Westbrook Library', 'T3C 1P4', 8992, '403-260-2600', '9:00', '21:00', '9:00', '21:00', '9:00', '21:00', '9:00', '21:00', '9:00', '18:00', '10:00', '17:00', '12:00', '17:00', '1421 33 Street SW\\n(51.0404778, -114.138237)')\n",
      "INSERT INTO `library_locations` (`Library`,`Postal_Code`,`Square_Feet`,`Phone_Number`,`Monday_Open`,`Monday_Close`,`Tuesday_Open`,`Tuesday_Close`,`Wednesday_Open`,`Wednesday_Close`,`Thursday_Open`,`Thursday_Close`,`Friday_Open`,`Friday_Close`,`Saturday_Open`,`Saturday_Close`,`Sunday_Open`,`Sunday_Close`,`Address`) VALUES (%s,%s,%s,%s,%s,%s,%s,%s,%s,%s,%s,%s,%s,%s,%s,%s,%s,%s,%s)\n",
      "('Westbrook Library', 'T3C 1P4', 8992, '403-260-2600', '9:00', '21:00', '9:00', '21:00', '9:00', '21:00', '9:00', '21:00', '9:00', '18:00', '10:00', '17:00', '12:00', '17:00', '1421 33 Street SW\\n(51.0404778, -114.138237)')\n"
     ]
    },
    {
     "data": {
      "text/plain": [
       "True"
      ]
     },
     "execution_count": 8,
     "metadata": {},
     "output_type": "execute_result"
    }
   ],
   "source": [
    "insertCursor = myconnection.cursor()\n",
    "\n",
    "columnString = \"`,`\".join([str(currentColumn) for currentColumn in cpl_locations.columns.tolist()])\n",
    "print (columnString)\n",
    "\n",
    "# inserting rows one by one from the DataFrame is sufficient for now\n",
    "for i, currentRow in cpl_locations.iterrows():\n",
    "    print (tuple(currentRow))\n",
    "    insertCommand = \"INSERT INTO `library_locations` (`\" + columnString + \"`) VALUES (\" + \"%s,\"*(len(currentRow)-1) + \"%s)\"\n",
    "    print (insertCommand)\n",
    "    print(tuple(currentRow))\n",
    "    insertCursor.execute(insertCommand, tuple(currentRow))\n",
    "    \n",
    "myconnection.commit()\n",
    "\n",
    "insertCursor.close()"
   ]
  },
  {
   "cell_type": "code",
   "execution_count": 9,
   "metadata": {},
   "outputs": [
    {
     "ename": "DatabaseError",
     "evalue": "2 (HY000): File '/Users/sean_anselmo/Calgary_Public_Library_Locations_and_Hours.csv' not found (OS errno 2 - No such file or directory)",
     "output_type": "error",
     "traceback": [
      "\u001b[0;31m---------------------------------------------------------------------------\u001b[0m",
      "\u001b[0;31mMySQLInterfaceError\u001b[0m                       Traceback (most recent call last)",
      "File \u001b[0;32m/opt/conda/lib/python3.11/site-packages/mysql/connector/connection_cext.py:639\u001b[0m, in \u001b[0;36mCMySQLConnection.cmd_query\u001b[0;34m(self, query, raw, buffered, raw_as_string)\u001b[0m\n\u001b[1;32m    638\u001b[0m         query \u001b[38;5;241m=\u001b[39m query\u001b[38;5;241m.\u001b[39mencode(\u001b[38;5;124m\"\u001b[39m\u001b[38;5;124mutf-8\u001b[39m\u001b[38;5;124m\"\u001b[39m)\n\u001b[0;32m--> 639\u001b[0m     \u001b[38;5;28;43mself\u001b[39;49m\u001b[38;5;241;43m.\u001b[39;49m\u001b[43m_cmysql\u001b[49m\u001b[38;5;241;43m.\u001b[39;49m\u001b[43mquery\u001b[49m\u001b[43m(\u001b[49m\n\u001b[1;32m    640\u001b[0m \u001b[43m        \u001b[49m\u001b[43mquery\u001b[49m\u001b[43m,\u001b[49m\n\u001b[1;32m    641\u001b[0m \u001b[43m        \u001b[49m\u001b[43mraw\u001b[49m\u001b[38;5;241;43m=\u001b[39;49m\u001b[43mraw\u001b[49m\u001b[43m,\u001b[49m\n\u001b[1;32m    642\u001b[0m \u001b[43m        \u001b[49m\u001b[43mbuffered\u001b[49m\u001b[38;5;241;43m=\u001b[39;49m\u001b[43mbuffered\u001b[49m\u001b[43m,\u001b[49m\n\u001b[1;32m    643\u001b[0m \u001b[43m        \u001b[49m\u001b[43mraw_as_string\u001b[49m\u001b[38;5;241;43m=\u001b[39;49m\u001b[43mraw_as_string\u001b[49m\u001b[43m,\u001b[49m\n\u001b[1;32m    644\u001b[0m \u001b[43m        \u001b[49m\u001b[43mquery_attrs\u001b[49m\u001b[38;5;241;43m=\u001b[39;49m\u001b[38;5;28;43mself\u001b[39;49m\u001b[38;5;241;43m.\u001b[39;49m\u001b[43mquery_attrs\u001b[49m\u001b[43m,\u001b[49m\n\u001b[1;32m    645\u001b[0m \u001b[43m    \u001b[49m\u001b[43m)\u001b[49m\n\u001b[1;32m    646\u001b[0m \u001b[38;5;28;01mexcept\u001b[39;00m MySQLInterfaceError \u001b[38;5;28;01mas\u001b[39;00m err:\n",
      "\u001b[0;31mMySQLInterfaceError\u001b[0m: File '/Users/sean_anselmo/Calgary_Public_Library_Locations_and_Hours.csv' not found (OS errno 2 - No such file or directory)",
      "\nThe above exception was the direct cause of the following exception:\n",
      "\u001b[0;31mDatabaseError\u001b[0m                             Traceback (most recent call last)",
      "Cell \u001b[0;32mIn[9], line 3\u001b[0m\n\u001b[1;32m      1\u001b[0m \u001b[38;5;66;03m# what if we don't want to loop through every single line and insert?\u001b[39;00m\n\u001b[1;32m      2\u001b[0m loadCursor \u001b[38;5;241m=\u001b[39m myconnection\u001b[38;5;241m.\u001b[39mcursor()\n\u001b[0;32m----> 3\u001b[0m \u001b[43mloadCursor\u001b[49m\u001b[38;5;241;43m.\u001b[39;49m\u001b[43mexecute\u001b[49m\u001b[43m(\u001b[49m\u001b[38;5;124;43m\"\u001b[39;49m\u001b[38;5;124;43mLOAD DATA LOCAL INFILE \u001b[39;49m\u001b[38;5;124;43m'\u001b[39;49m\u001b[38;5;124;43m/Users/sean_anselmo/Calgary_Public_Library_Locations_and_Hours.csv\u001b[39;49m\u001b[38;5;124;43m'\u001b[39;49m\u001b[38;5;124;43m \u001b[39;49m\u001b[38;5;124;43m\"\u001b[39;49m\u001b[43m \u001b[49m\u001b[38;5;124;43m\"\u001b[39;49m\u001b[38;5;124;43mINTO TABLE library_locations \u001b[39;49m\u001b[38;5;124;43m\"\u001b[39;49m\n\u001b[1;32m      4\u001b[0m \u001b[38;5;124;43m\"\u001b[39;49m\u001b[38;5;124;43mFIELDS TERMINATED BY \u001b[39;49m\u001b[38;5;124;43m'\u001b[39;49m\u001b[38;5;124;43m,\u001b[39;49m\u001b[38;5;124;43m'\u001b[39;49m\u001b[38;5;124;43m LINES TERMINATED BY \u001b[39;49m\u001b[38;5;124;43m'\u001b[39;49m\u001b[38;5;130;43;01m\\r\u001b[39;49;00m\u001b[38;5;130;43;01m\\n\u001b[39;49;00m\u001b[38;5;124;43m'\u001b[39;49m\u001b[38;5;124;43m IGNORE 1 LINES\u001b[39;49m\u001b[38;5;124;43m\"\u001b[39;49m\u001b[43m)\u001b[49m\n\u001b[1;32m      5\u001b[0m myconnection\u001b[38;5;241m.\u001b[39mcommit()\n\u001b[1;32m      6\u001b[0m loadCursor\u001b[38;5;241m.\u001b[39mclose()\n",
      "File \u001b[0;32m/opt/conda/lib/python3.11/site-packages/mysql/connector/cursor_cext.py:330\u001b[0m, in \u001b[0;36mCMySQLCursor.execute\u001b[0;34m(self, operation, params, multi)\u001b[0m\n\u001b[1;32m    325\u001b[0m             \u001b[38;5;28;01mraise\u001b[39;00m ProgrammingError(\n\u001b[1;32m    326\u001b[0m                 \u001b[38;5;124m\"\u001b[39m\u001b[38;5;124mNot all parameters were used in the SQL statement\u001b[39m\u001b[38;5;124m\"\u001b[39m\n\u001b[1;32m    327\u001b[0m             )\n\u001b[1;32m    329\u001b[0m \u001b[38;5;28;01mtry\u001b[39;00m:\n\u001b[0;32m--> 330\u001b[0m     result \u001b[38;5;241m=\u001b[39m \u001b[38;5;28;43mself\u001b[39;49m\u001b[38;5;241;43m.\u001b[39;49m\u001b[43m_cnx\u001b[49m\u001b[38;5;241;43m.\u001b[39;49m\u001b[43mcmd_query\u001b[49m\u001b[43m(\u001b[49m\n\u001b[1;32m    331\u001b[0m \u001b[43m        \u001b[49m\u001b[43mstmt\u001b[49m\u001b[43m,\u001b[49m\n\u001b[1;32m    332\u001b[0m \u001b[43m        \u001b[49m\u001b[43mraw\u001b[49m\u001b[38;5;241;43m=\u001b[39;49m\u001b[38;5;28;43mself\u001b[39;49m\u001b[38;5;241;43m.\u001b[39;49m\u001b[43m_raw\u001b[49m\u001b[43m,\u001b[49m\n\u001b[1;32m    333\u001b[0m \u001b[43m        \u001b[49m\u001b[43mbuffered\u001b[49m\u001b[38;5;241;43m=\u001b[39;49m\u001b[38;5;28;43mself\u001b[39;49m\u001b[38;5;241;43m.\u001b[39;49m\u001b[43m_buffered\u001b[49m\u001b[43m,\u001b[49m\n\u001b[1;32m    334\u001b[0m \u001b[43m        \u001b[49m\u001b[43mraw_as_string\u001b[49m\u001b[38;5;241;43m=\u001b[39;49m\u001b[38;5;28;43mself\u001b[39;49m\u001b[38;5;241;43m.\u001b[39;49m\u001b[43m_raw_as_string\u001b[49m\u001b[43m,\u001b[49m\n\u001b[1;32m    335\u001b[0m \u001b[43m    \u001b[49m\u001b[43m)\u001b[49m\n\u001b[1;32m    336\u001b[0m \u001b[38;5;28;01mexcept\u001b[39;00m MySQLInterfaceError \u001b[38;5;28;01mas\u001b[39;00m err:\n\u001b[1;32m    337\u001b[0m     \u001b[38;5;28;01mraise\u001b[39;00m get_mysql_exception(\n\u001b[1;32m    338\u001b[0m         msg\u001b[38;5;241m=\u001b[39merr\u001b[38;5;241m.\u001b[39mmsg, errno\u001b[38;5;241m=\u001b[39merr\u001b[38;5;241m.\u001b[39merrno, sqlstate\u001b[38;5;241m=\u001b[39merr\u001b[38;5;241m.\u001b[39msqlstate\n\u001b[1;32m    339\u001b[0m     ) \u001b[38;5;28;01mfrom\u001b[39;00m \u001b[38;5;21;01merr\u001b[39;00m\n",
      "File \u001b[0;32m/opt/conda/lib/python3.11/site-packages/mysql/connector/opentelemetry/context_propagation.py:77\u001b[0m, in \u001b[0;36mwith_context_propagation.<locals>.wrapper\u001b[0;34m(cnx, *args, **kwargs)\u001b[0m\n\u001b[1;32m     75\u001b[0m \u001b[38;5;250m\u001b[39m\u001b[38;5;124;03m\"\"\"Context propagation decorator.\"\"\"\u001b[39;00m\n\u001b[1;32m     76\u001b[0m \u001b[38;5;28;01mif\u001b[39;00m \u001b[38;5;129;01mnot\u001b[39;00m OTEL_ENABLED \u001b[38;5;129;01mor\u001b[39;00m \u001b[38;5;129;01mnot\u001b[39;00m cnx\u001b[38;5;241m.\u001b[39motel_context_propagation:\n\u001b[0;32m---> 77\u001b[0m     \u001b[38;5;28;01mreturn\u001b[39;00m \u001b[43mmethod\u001b[49m\u001b[43m(\u001b[49m\u001b[43mcnx\u001b[49m\u001b[43m,\u001b[49m\u001b[43m \u001b[49m\u001b[38;5;241;43m*\u001b[39;49m\u001b[43margs\u001b[49m\u001b[43m,\u001b[49m\u001b[43m \u001b[49m\u001b[38;5;241;43m*\u001b[39;49m\u001b[38;5;241;43m*\u001b[39;49m\u001b[43mkwargs\u001b[49m\u001b[43m)\u001b[49m\n\u001b[1;32m     79\u001b[0m current_span \u001b[38;5;241m=\u001b[39m trace\u001b[38;5;241m.\u001b[39mget_current_span()\n\u001b[1;32m     80\u001b[0m tp_header \u001b[38;5;241m=\u001b[39m \u001b[38;5;28;01mNone\u001b[39;00m\n",
      "File \u001b[0;32m/opt/conda/lib/python3.11/site-packages/mysql/connector/connection_cext.py:647\u001b[0m, in \u001b[0;36mCMySQLConnection.cmd_query\u001b[0;34m(self, query, raw, buffered, raw_as_string)\u001b[0m\n\u001b[1;32m    639\u001b[0m     \u001b[38;5;28mself\u001b[39m\u001b[38;5;241m.\u001b[39m_cmysql\u001b[38;5;241m.\u001b[39mquery(\n\u001b[1;32m    640\u001b[0m         query,\n\u001b[1;32m    641\u001b[0m         raw\u001b[38;5;241m=\u001b[39mraw,\n\u001b[0;32m   (...)\u001b[0m\n\u001b[1;32m    644\u001b[0m         query_attrs\u001b[38;5;241m=\u001b[39m\u001b[38;5;28mself\u001b[39m\u001b[38;5;241m.\u001b[39mquery_attrs,\n\u001b[1;32m    645\u001b[0m     )\n\u001b[1;32m    646\u001b[0m \u001b[38;5;28;01mexcept\u001b[39;00m MySQLInterfaceError \u001b[38;5;28;01mas\u001b[39;00m err:\n\u001b[0;32m--> 647\u001b[0m     \u001b[38;5;28;01mraise\u001b[39;00m get_mysql_exception(\n\u001b[1;32m    648\u001b[0m         err\u001b[38;5;241m.\u001b[39merrno, msg\u001b[38;5;241m=\u001b[39merr\u001b[38;5;241m.\u001b[39mmsg, sqlstate\u001b[38;5;241m=\u001b[39merr\u001b[38;5;241m.\u001b[39msqlstate\n\u001b[1;32m    649\u001b[0m     ) \u001b[38;5;28;01mfrom\u001b[39;00m \u001b[38;5;21;01merr\u001b[39;00m\n\u001b[1;32m    650\u001b[0m \u001b[38;5;28;01mexcept\u001b[39;00m \u001b[38;5;167;01mAttributeError\u001b[39;00m \u001b[38;5;28;01mas\u001b[39;00m err:\n\u001b[1;32m    651\u001b[0m     addr \u001b[38;5;241m=\u001b[39m (\n\u001b[1;32m    652\u001b[0m         \u001b[38;5;28mself\u001b[39m\u001b[38;5;241m.\u001b[39m_unix_socket \u001b[38;5;28;01mif\u001b[39;00m \u001b[38;5;28mself\u001b[39m\u001b[38;5;241m.\u001b[39m_unix_socket \u001b[38;5;28;01melse\u001b[39;00m \u001b[38;5;124mf\u001b[39m\u001b[38;5;124m\"\u001b[39m\u001b[38;5;132;01m{\u001b[39;00m\u001b[38;5;28mself\u001b[39m\u001b[38;5;241m.\u001b[39m_host\u001b[38;5;132;01m}\u001b[39;00m\u001b[38;5;124m:\u001b[39m\u001b[38;5;132;01m{\u001b[39;00m\u001b[38;5;28mself\u001b[39m\u001b[38;5;241m.\u001b[39m_port\u001b[38;5;132;01m}\u001b[39;00m\u001b[38;5;124m\"\u001b[39m\n\u001b[1;32m    653\u001b[0m     )\n",
      "\u001b[0;31mDatabaseError\u001b[0m: 2 (HY000): File '/Users/sean_anselmo/Calgary_Public_Library_Locations_and_Hours.csv' not found (OS errno 2 - No such file or directory)"
     ]
    }
   ],
   "source": [
    "# what if we don't want to loop through every single line and insert?\n",
    "loadCursor = myconnection.cursor()\n",
    "loadCursor.execute(\"LOAD DATA LOCAL INFILE '/Users/sean_anselmo/Calgary_Public_Library_Locations_and_Hours.csv' \" \"INTO TABLE library_locations \"\n",
    "\"FIELDS TERMINATED BY ',' LINES TERMINATED BY '\\r\\n' IGNORE 1 LINES\")\n",
    "myconnection.commit()\n",
    "loadCursor.close()\n"
   ]
  },
  {
   "cell_type": "code",
   "execution_count": 10,
   "metadata": {},
   "outputs": [
    {
     "name": "stdout",
     "output_type": "stream",
     "text": [
      "Data inserted using execute_many() successfully...\n"
     ]
    }
   ],
   "source": [
    "tpls = [tuple(x) for i, x in cpl_locations.iterrows()]\n",
    "columnString = \"`,`\".join([str(currentColumn) for currentColumn in cpl_locations.columns.tolist()])\n",
    "insertCommand = \"INSERT INTO library_locations VALUES (\" + \"%s,\"*18 + \"%s)\"\n",
    "\n",
    "cursor = myconnection.cursor()\n",
    "try:\n",
    "    cursor.executemany(insertCommand, tpls)\n",
    "    myconnection.commit()\n",
    "    print(\"Data inserted using execute_many() successfully...\")\n",
    "except mysql.connector.Error as err:\n",
    "    print(\"Error while inserting to MySQL\", err)\n",
    "    cursor.close()"
   ]
  },
  {
   "cell_type": "markdown",
   "metadata": {},
   "source": [
    "## Deleting tables"
   ]
  },
  {
   "cell_type": "code",
   "execution_count": 65,
   "metadata": {},
   "outputs": [
    {
     "data": {
      "text/plain": [
       "True"
      ]
     },
     "execution_count": 65,
     "metadata": {},
     "output_type": "execute_result"
    }
   ],
   "source": [
    "#Use the DELETE statement without specifying a WHERE clause\n",
    "# If the statement executes, the table continues to exist (still can insert rows into it), but it's empty. \n",
    "# All existing views and authorizations on the table remain intact when using DELETE.\n",
    "\n",
    "# uncomment if you would like to remove table\n",
    "deletecursor = myconnection.cursor()\n",
    "# Warning - if you DROP the table it will be removed completely and it will need to be created from scratch\n",
    "#sql = \"DROP TABLE IF EXISTS library_locations;\"\n",
    "sql = \"DELETE FROM library_locations;\"\n",
    "deletecursor.execute(sql)\n",
    "deletecursor.close()"
   ]
  },
  {
   "cell_type": "markdown",
   "metadata": {},
   "source": [
    "# Using Python to retrieve data\n",
    "\n",
    "You can also use cursors to read data from a database table. It is helpful to specify what kind of result set you would like the cursor to return. Try each of the following for the second arguement:\n",
    "* `raw=True`\n",
    "* `dictionary=True`\n",
    "* `named_tuple=True`"
   ]
  },
  {
   "cell_type": "code",
   "execution_count": 78,
   "metadata": {},
   "outputs": [
    {
     "name": "stdout",
     "output_type": "stream",
     "text": [
      "{'library': 'W.R. Castell Central Library'}\n",
      "{'library': 'Alexander Calhoun Library'}\n",
      "{'library': 'Bowness Library'}\n",
      "{'library': 'Fish Creek Library'}\n",
      "{'library': 'Forest Lawn Library'}\n",
      "{'library': 'Glenmore Square Library'}\n",
      "{'library': 'Louise Riley Library'}\n",
      "{'library': 'Memorial Park Library'}\n",
      "{'library': 'Nose Hill Library'}\n",
      "{'library': 'Shawnessy Library'}\n",
      "{'library': 'Signal Hill Library'}\n",
      "{'library': 'Southwood Library'}\n",
      "{'library': 'Judith Umbach Library'}\n",
      "{'library': 'Village Square Library'}\n",
      "{'library': 'Crowfoot Library'}\n",
      "{'library': 'Country Hills Library'}\n",
      "{'library': 'Saddletowne Library'}\n",
      "{'library': 'Westbrook Library'}\n"
     ]
    },
    {
     "data": {
      "text/plain": [
       "True"
      ]
     },
     "execution_count": 78,
     "metadata": {},
     "output_type": "execute_result"
    }
   ],
   "source": [
    "# try changing the second argument in this method call.\n",
    "read_cursor = myconnection.cursor(buffered=True, dictionary=True)\n",
    "\n",
    "query_string = (\"SELECT library FROM library_locations;\")\n",
    "\n",
    "read_cursor.execute(query_string)\n",
    "\n",
    "for (library_value) in read_cursor:\n",
    "    print(library_value)\n",
    "    \n",
    "read_cursor.close()"
   ]
  },
  {
   "cell_type": "markdown",
   "metadata": {},
   "source": [
    "# Parameters in SQL\n",
    "\n",
    "_Parameterization_ is an important feature of cursors which let you create (or *prepare*) a general statement which you can \"fill in\" with specific values later. This is a more efficient way to use a database rather than submit specific queries.\n",
    "\n",
    "For the MySQL Connector, the %s symbol is usually used to indicate when a parameter should be used. \n",
    "\n",
    "_Can you see where in this notebook we have already used this feature in a statement?_"
   ]
  },
  {
   "cell_type": "code",
   "execution_count": 11,
   "metadata": {},
   "outputs": [
    {
     "name": "stdout",
     "output_type": "stream",
     "text": [
      "Number of libraries with square feet less than 0\n",
      "0\n",
      "Number of libraries with square feet less than 10000\n",
      "18\n",
      "Number of libraries with square feet less than 25000\n",
      "45\n",
      "Number of libraries with square feet less than 100000\n",
      "51\n"
     ]
    },
    {
     "data": {
      "text/plain": [
       "True"
      ]
     },
     "execution_count": 11,
     "metadata": {},
     "output_type": "execute_result"
    }
   ],
   "source": [
    "import datetime\n",
    "\n",
    "size_cursor = myconnection.cursor(buffered=True, dictionary=True)\n",
    "library_sizes = [0, 10000, 25000, 100000]\n",
    "\n",
    "query_string = (\"SELECT library FROM library_locations WHERE square_feet < %s ;\")\n",
    "for current_size in library_sizes:\n",
    "    print (\"Number of libraries with square feet less than\", current_size)\n",
    "    size_cursor.execute(query_string, (current_size,))\n",
    "    print (size_cursor.rowcount)\n",
    "\n",
    "size_cursor.close()"
   ]
  },
  {
   "cell_type": "markdown",
   "metadata": {},
   "source": [
    "To do: Retrieve any library name, postal code, square feet, and address where the postal code is equal to T2T 3V8"
   ]
  },
  {
   "cell_type": "code",
   "execution_count": 12,
   "metadata": {},
   "outputs": [
    {
     "name": "stdout",
     "output_type": "stream",
     "text": [
      "Library: Alexander Calhoun Library, Postal Code: T2T 3V8, Square Feet: 9256, Address: 3223 14 St SW\n",
      "(51.0255318, -114.0947876)\n",
      "Library: Alexander Calhoun Library, Postal Code: T2T 3V8, Square Feet: 9256, Address: 3223 14 St SW\n",
      "(51.0255318, -114.0947876)\n",
      "Library: Alexander Calhoun Library, Postal Code: T2T 3V8, Square Feet: 9256, Address: 3223 14 St SW\n",
      "(51.0255318, -114.0947876)\n"
     ]
    },
    {
     "data": {
      "text/plain": [
       "True"
      ]
     },
     "execution_count": 12,
     "metadata": {},
     "output_type": "execute_result"
    }
   ],
   "source": [
    "postal_cursor = myconnection.cursor()\n",
    "\n",
    "select_query = \"\"\"\n",
    "SELECT Library, Postal_Code, Square_Feet, Address\n",
    "FROM library_locations\n",
    "WHERE Postal_Code = %s\n",
    "\"\"\"\n",
    "\n",
    "postal_code = 'T2T 3V8'\n",
    "postal_cursor.execute(select_query, (postal_code,))\n",
    "\n",
    "for (Library, Postal_Code, Square_Feet, Address) in postal_cursor:\n",
    "    print(\"Library: {}, Postal Code: {}, Square Feet: {}, Address: {}\".format(Library, Postal_Code, Square_Feet, Address))\n",
    "\n",
    "postal_cursor.close()\n"
   ]
  },
  {
   "cell_type": "markdown",
   "metadata": {},
   "source": [
    "To do: Retrieve the names of libraries that are open at 9:00 AM on Fridays"
   ]
  },
  {
   "cell_type": "code",
   "execution_count": 13,
   "metadata": {},
   "outputs": [
    {
     "name": "stdout",
     "output_type": "stream",
     "text": [
      "The library W.R. Castell Central Library is open at 9:00 AM on Fridays.\n",
      "The library Fish Creek Library is open at 9:00 AM on Fridays.\n",
      "The library Shawnessy Library is open at 9:00 AM on Fridays.\n",
      "The library Village Square Library is open at 9:00 AM on Fridays.\n",
      "The library Crowfoot Library is open at 9:00 AM on Fridays.\n",
      "The library Westbrook Library is open at 9:00 AM on Fridays.\n",
      "The library W.R. Castell Central Library is open at 9:00 AM on Fridays.\n",
      "The library Fish Creek Library is open at 9:00 AM on Fridays.\n",
      "The library Shawnessy Library is open at 9:00 AM on Fridays.\n",
      "The library Village Square Library is open at 9:00 AM on Fridays.\n",
      "The library Crowfoot Library is open at 9:00 AM on Fridays.\n",
      "The library Westbrook Library is open at 9:00 AM on Fridays.\n",
      "The library W.R. Castell Central Library is open at 9:00 AM on Fridays.\n",
      "The library Fish Creek Library is open at 9:00 AM on Fridays.\n",
      "The library Shawnessy Library is open at 9:00 AM on Fridays.\n",
      "The library Village Square Library is open at 9:00 AM on Fridays.\n",
      "The library Crowfoot Library is open at 9:00 AM on Fridays.\n",
      "The library Westbrook Library is open at 9:00 AM on Fridays.\n"
     ]
    },
    {
     "data": {
      "text/plain": [
       "True"
      ]
     },
     "execution_count": 13,
     "metadata": {},
     "output_type": "execute_result"
    }
   ],
   "source": [
    "open_cursor = myconnection.cursor()\n",
    "\n",
    "select_query = (\"SELECT Library FROM library_locations WHERE Friday_Open <= '09:00:00' AND Friday_Close >= '09:00:00'\")\n",
    "\n",
    "open_cursor.execute(select_query)\n",
    "\n",
    "for (library,) in open_cursor:\n",
    "    print(\"The library {} is open at 9:00 AM on Fridays.\".format(library))\n",
    "\n",
    "open_cursor.close()"
   ]
  },
  {
   "cell_type": "markdown",
   "metadata": {},
   "source": [
    "The address column isn't that clean, it has both a address string and a longitude and latitude. Can we extract this info?"
   ]
  },
  {
   "cell_type": "code",
   "execution_count": 82,
   "metadata": {},
   "outputs": [
    {
     "name": "stdout",
     "output_type": "stream",
     "text": [
      "Address: 616 Macleod Tr SE, Latitude: 51.0470276, Longitude: -114.0578995\n",
      "Address: 3223 14 St SW, Latitude: 51.0255318, Longitude: -114.0947876\n",
      "Address: 7930 Bowness Rd NW, Latitude: 51.0872841, Longitude: -114.1830978\n",
      "Address: 11161 Bonaventure Dr SE, Latitude: 50.9516296, Longitude: -114.0603409\n",
      "Address: 4807 8 Av SE, Latitude: 51.045105, Longitude: -113.9652023\n",
      "Address: 7740 18 St SE, Latitude: 50.9835968, Longitude: -114.0141449\n",
      "Address: 1904 14 Av NW, Latitude: 51.0652428, Longitude: -114.1038132\n",
      "Address: 1221 2 St SW, Latitude: 51.0412674, Longitude: -114.0683823\n",
      "Address: 1530 Northmount Dr NW, Latitude: 51.0960922, Longitude: -114.1391296\n",
      "Address: 333 Shawville Bv SE, Latitude: 50.8986015, Longitude: -114.062851\n",
      "Address: 5994 Signal Hill Ce SW, Latitude: 51.0181122, Longitude: -114.1756439\n",
      "Address: 924 Southland Dr SW, Latitude: 50.963623, Longitude: -114.0860367\n",
      "Address: 6617 Centre St N, Latitude: 51.1121979, Longitude: -114.0633087\n",
      "Address: 2623 56 St NE, Latitude: 51.0753708, Longitude: -113.9525833\n",
      "Address: 8685 Nose hill Dr NW, Latitude: 51.1295815, Longitude: -114.1926956\n",
      "Address: 388 Country Hills Bv NE, Latitude: 51.159462, Longitude: -114.0675659\n",
      "Address: 7556 Falconridge Bl NE, Latitude: 51.1196709, Longitude: -113.9485092\n",
      "Address: 1421 33 Street SW, Latitude: 51.0404778, Longitude: -114.138237\n"
     ]
    },
    {
     "data": {
      "text/plain": [
       "True"
      ]
     },
     "execution_count": 82,
     "metadata": {},
     "output_type": "execute_result"
    }
   ],
   "source": [
    "address_cursor = myconnection.cursor()\n",
    "\n",
    "select_query = \"SELECT Address FROM library_locations\"\n",
    "address_cursor.execute(select_query)\n",
    "\n",
    "for (address,) in address_cursor:\n",
    "    if address and '(' in address and ')' in address:\n",
    "        address_parts = address.split('(')\n",
    "        address = address_parts[0].strip()\n",
    "        lat_lon = address_parts[1].replace(')', '').strip()\n",
    "        latitude, longitude = map(float, lat_lon.split(','))\n",
    "        print(\"Address: {}, Latitude: {}, Longitude: {}\".format(address, latitude, longitude))\n",
    "\n",
    "address_cursor.close()"
   ]
  },
  {
   "cell_type": "code",
   "execution_count": 14,
   "metadata": {},
   "outputs": [],
   "source": [
    "# CLEANUP: always remember to release the resources you have used on the server. Always run this cell last!\n",
    "myconnection.close()"
   ]
  },
  {
   "cell_type": "code",
   "execution_count": null,
   "metadata": {},
   "outputs": [],
   "source": []
  }
 ],
 "metadata": {
  "kernelspec": {
   "display_name": "Python 3 (ipykernel)",
   "language": "python",
   "name": "python3"
  },
  "language_info": {
   "codemirror_mode": {
    "name": "ipython",
    "version": 3
   },
   "file_extension": ".py",
   "mimetype": "text/x-python",
   "name": "python",
   "nbconvert_exporter": "python",
   "pygments_lexer": "ipython3",
   "version": "3.11.6"
  }
 },
 "nbformat": 4,
 "nbformat_minor": 4
}
