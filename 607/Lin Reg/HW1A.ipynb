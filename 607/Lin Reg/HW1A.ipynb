{
 "cells": [
  {
   "cell_type": "code",
   "execution_count": 17,
   "id": "593152bf-0656-47d2-8282-7db0178ef5ba",
   "metadata": {},
   "outputs": [
    {
     "name": "stdout",
     "output_type": "stream",
     "text": [
      "Requirement already satisfied: pyarrow in ./myenv/lib/python3.12/site-packages (16.1.0)\n",
      "Requirement already satisfied: numpy>=1.16.6 in ./myenv/lib/python3.12/site-packages (from pyarrow) (2.0.0)\n"
     ]
    }
   ],
   "source": [
    "import pandas as pd\n",
    "import numpy as np\n",
    "!pip install pyarrow\n",
    "import pyarrow as pa\n",
    "import pyarrow.parquet as pq\n",
    "import os\n",
    "import time\n",
    "import timeit\n",
    "import matplotlib.pyplot as plt\n",
    "from urllib.parse import urlencode\n",
    "import requests"
   ]
  },
  {
   "cell_type": "markdown",
   "id": "a641cd93-a54c-4039-91d1-308da82e38c2",
   "metadata": {},
   "source": [
    "### Step 1 | Setup Your Cloud Environment\n",
    "\n",
    "Setup a jupyter notebook environment on a Linux-based cloud instance. You can use AWS, Cybera or any other cloud provider that you have access to. For this homework, use the following suggested configuration.\n",
    "\n",
    "- 1 to 2 CPUs, 2 to 4 GB RAM.\n",
    "- High speed block storage that is accessible to your instance. Attach a separate _block_ volume/store for this rather than using the storage of the VM. 1 GB storage should be more than enough for this homework.\n",
    "- Jupyter installed, ability to install additional Python packages as needed.\n",
    "\n",
    "In your Jupyter notebook, include code blocks that show the following information via shell or OS level commands:\n",
    "\n",
    "- Linux distribution\n",
    "- Number of CPUs\n",
    "- Amount of RAM\n",
    "- Mount point and amount of attached storage."
   ]
  },
  {
   "cell_type": "code",
   "execution_count": 2,
   "id": "01d42a57-bea0-447f-91e6-610e39927c9e",
   "metadata": {},
   "outputs": [
    {
     "name": "stdout",
     "output_type": "stream",
     "text": [
      "No LSB modules are available.\n",
      "Description:\tUbuntu 24.04 LTS\n"
     ]
    }
   ],
   "source": [
    "!lsb_release -d"
   ]
  },
  {
   "cell_type": "code",
   "execution_count": 3,
   "id": "36f79151-86dd-4bf1-b3d7-7e3c839ceaee",
   "metadata": {},
   "outputs": [
    {
     "name": "stdout",
     "output_type": "stream",
     "text": [
      "2\n"
     ]
    }
   ],
   "source": [
    "!nproc"
   ]
  },
  {
   "cell_type": "code",
   "execution_count": 4,
   "id": "0ecae6e9-6eee-4119-b9da-9c289beb1255",
   "metadata": {},
   "outputs": [
    {
     "name": "stdout",
     "output_type": "stream",
     "text": [
      "               total        used        free      shared  buff/cache   available\n",
      "Mem:           3.8Gi       590Mi       3.0Gi       888Ki       492Mi       3.2Gi\n",
      "Swap:             0B          0B          0B\n"
     ]
    }
   ],
   "source": [
    "!free -h"
   ]
  },
  {
   "cell_type": "code",
   "execution_count": 6,
   "id": "ff509754-442f-471e-93f1-7f9dcfeead6a",
   "metadata": {},
   "outputs": [
    {
     "name": "stdout",
     "output_type": "stream",
     "text": [
      "NAME     MAJ:MIN   RM  SIZE RO TYPE MOUNTPOINTS\n",
      "loop0      7:0      0 25.2M  1 loop /snap/amazon-ssm-agent/7993\n",
      "loop1      7:1      0 55.7M  1 loop /snap/core18/2829\n",
      "loop2      7:2      0 38.8M  1 loop /snap/snapd/21759\n",
      "xvda     202:0      0    8G  0 disk \n",
      "├─xvda1  202:1      0    7G  0 part /\n",
      "├─xvda14 202:14     0    4M  0 part \n",
      "├─xvda15 202:15     0  106M  0 part /boot/efi\n",
      "└─xvda16 259:0      0  913M  0 part /boot\n",
      "xvdbb    202:13568  0    4G  0 disk /mnt/data\n"
     ]
    }
   ],
   "source": [
    "!lsblk"
   ]
  },
  {
   "cell_type": "markdown",
   "id": "3892716d-3199-4173-a3af-efdffd0e25a7",
   "metadata": {},
   "source": [
    "### Step 2 | Download and Prepare Data\n",
    "\n",
    "Download the following dataset to your instance from the City of Calgary's Open Data Portal.\n",
    "\n",
    "- [Corporate Energy Consumption](https://data.calgary.ca/Environment/Corporate-Energy-Consumption/crbp-innf/about_data)\n",
    "\n",
    "Download it in a format that will allow you to subsequently read the data into a `pandas` dataframe for in-memory processing. Also take note of the API end point of this dataset for the next step.\n",
    "\n",
    "Convert the dataset to parquet format. Choose a partitioning strategy that is best suited for the queries in Step 3 (see below).\n",
    "\n",
    "\n",
    "In your Jupyter notebook, include code cells that show:\n",
    "-  The name and size of the downloaded file.\n",
    "- The contents of the parent folder where the parquet file(s) are stored. Make sure that the overall size of the resulting parquet file(s) is clearly shown.\n",
    "\n",
    "Also, discuss your partitioning strategy in a markdown cell."
   ]
  },
  {
   "cell_type": "code",
   "execution_count": 67,
   "id": "42e04be7-6ba9-42f6-84a1-7a2e4af49058",
   "metadata": {
    "scrolled": true
   },
   "outputs": [
    {
     "data": {
      "text/html": [
       "<div>\n",
       "<style scoped>\n",
       "    .dataframe tbody tr th:only-of-type {\n",
       "        vertical-align: middle;\n",
       "    }\n",
       "\n",
       "    .dataframe tbody tr th {\n",
       "        vertical-align: top;\n",
       "    }\n",
       "\n",
       "    .dataframe thead th {\n",
       "        text-align: right;\n",
       "    }\n",
       "</style>\n",
       "<table border=\"1\" class=\"dataframe\">\n",
       "  <thead>\n",
       "    <tr style=\"text-align: right;\">\n",
       "      <th></th>\n",
       "      <th>Business Unit Desc</th>\n",
       "      <th>FacilityName</th>\n",
       "      <th>Site ID</th>\n",
       "      <th>FacilityAddress</th>\n",
       "      <th>Energy Description</th>\n",
       "      <th>Year</th>\n",
       "      <th>Month</th>\n",
       "      <th>Total Consumption</th>\n",
       "      <th>Unit</th>\n",
       "    </tr>\n",
       "  </thead>\n",
       "  <tbody>\n",
       "    <tr>\n",
       "      <th>0</th>\n",
       "      <td>Calgary Fire Department</td>\n",
       "      <td>ATCO VILLAGE (HOUSE)</td>\n",
       "      <td>0020003498361</td>\n",
       "      <td>6015 23 AV SE</td>\n",
       "      <td>Electricity</td>\n",
       "      <td>2014</td>\n",
       "      <td>Apr</td>\n",
       "      <td>1107</td>\n",
       "      <td>Kwh</td>\n",
       "    </tr>\n",
       "    <tr>\n",
       "      <th>1</th>\n",
       "      <td>Calgary Fire Department</td>\n",
       "      <td>ATCO VILLAGE (HOUSE)</td>\n",
       "      <td>0020003498361</td>\n",
       "      <td>6015 23 AV SE</td>\n",
       "      <td>Electricity</td>\n",
       "      <td>2014</td>\n",
       "      <td>Aug</td>\n",
       "      <td>1130</td>\n",
       "      <td>Kwh</td>\n",
       "    </tr>\n",
       "    <tr>\n",
       "      <th>2</th>\n",
       "      <td>Calgary Fire Department</td>\n",
       "      <td>ATCO VILLAGE (HOUSE)</td>\n",
       "      <td>0020003498361</td>\n",
       "      <td>6015 23 AV SE</td>\n",
       "      <td>Electricity</td>\n",
       "      <td>2014</td>\n",
       "      <td>Dec</td>\n",
       "      <td>1775</td>\n",
       "      <td>Kwh</td>\n",
       "    </tr>\n",
       "  </tbody>\n",
       "</table>\n",
       "</div>"
      ],
      "text/plain": [
       "        Business Unit Desc          FacilityName        Site ID  \\\n",
       "0  Calgary Fire Department  ATCO VILLAGE (HOUSE)  0020003498361   \n",
       "1  Calgary Fire Department  ATCO VILLAGE (HOUSE)  0020003498361   \n",
       "2  Calgary Fire Department  ATCO VILLAGE (HOUSE)  0020003498361   \n",
       "\n",
       "  FacilityAddress Energy Description  Year Month  Total Consumption Unit  \n",
       "0   6015 23 AV SE        Electricity  2014   Apr               1107  Kwh  \n",
       "1   6015 23 AV SE        Electricity  2014   Aug               1130  Kwh  \n",
       "2   6015 23 AV SE        Electricity  2014   Dec               1775  Kwh  "
      ]
     },
     "metadata": {},
     "output_type": "display_data"
    },
    {
     "data": {
      "text/plain": [
       "Business Unit Desc    object\n",
       "FacilityName          object\n",
       "Site ID               object\n",
       "FacilityAddress       object\n",
       "Energy Description    object\n",
       "Year                   int64\n",
       "Month                 object\n",
       "Total Consumption      int64\n",
       "Unit                  object\n",
       "dtype: object"
      ]
     },
     "execution_count": 67,
     "metadata": {},
     "output_type": "execute_result"
    }
   ],
   "source": [
    "df = pd.read_csv('CEC.csv', header=0, index_col=False, low_memory=False)\n",
    "\n",
    "display(df.head(3))\n",
    "\n",
    "df.dtypes"
   ]
  },
  {
   "cell_type": "code",
   "execution_count": 3,
   "id": "5464081c-2bd7-4341-b805-8dc0e026dc9b",
   "metadata": {},
   "outputs": [],
   "source": [
    "pq_table = pa.Table.from_pandas(df)"
   ]
  },
  {
   "cell_type": "code",
   "execution_count": 4,
   "id": "49108782-6018-484b-8334-52eb3541a981",
   "metadata": {},
   "outputs": [],
   "source": [
    "pq.write_to_dataset(pq_table, \n",
    "                    root_path='part_data', \n",
    "                    partition_cols=['Year','Business Unit Desc'], \n",
    "                    compression=None)"
   ]
  },
  {
   "cell_type": "markdown",
   "id": "f2382ed8-097c-4df7-9182-4d33425cf158",
   "metadata": {},
   "source": [
    "### Partitioning Stratagy\n",
    "The dataset is partitioned by `Year` and `Business Unit Desc`. This strategy is chosen as the querying in step 3 requires year period and top companies by consumption. `Year` will help us find the year periods and `Business Unit Desc` will help us compare by company."
   ]
  },
  {
   "cell_type": "code",
   "execution_count": 5,
   "id": "43de2074-0aea-4b98-bd37-da0a0da29816",
   "metadata": {},
   "outputs": [
    {
     "name": "stdout",
     "output_type": "stream",
     "text": [
      "total 52K\n",
      "drwxrwxr-x 13 ubuntu ubuntu 4.0K Jul 11 09:51  .\n",
      "drwxrwxrwx  7 root   root   4.0K Jul 11 10:58  ..\n",
      "drwxrwxr-x 18 ubuntu ubuntu 4.0K Jul 11 09:51 'Year=2014'\n",
      "drwxrwxr-x 19 ubuntu ubuntu 4.0K Jul 11 09:51 'Year=2015'\n",
      "drwxrwxr-x 22 ubuntu ubuntu 4.0K Jul 11 09:51 'Year=2016'\n",
      "drwxrwxr-x 22 ubuntu ubuntu 4.0K Jul 11 09:51 'Year=2017'\n",
      "drwxrwxr-x 21 ubuntu ubuntu 4.0K Jul 11 09:51 'Year=2018'\n",
      "drwxrwxr-x 19 ubuntu ubuntu 4.0K Jul 11 09:51 'Year=2019'\n",
      "drwxrwxr-x 18 ubuntu ubuntu 4.0K Jul 11 09:51 'Year=2020'\n",
      "drwxrwxr-x 17 ubuntu ubuntu 4.0K Jul 11 09:51 'Year=2021'\n",
      "drwxrwxr-x 17 ubuntu ubuntu 4.0K Jul 11 09:51 'Year=2022'\n",
      "drwxrwxr-x 17 ubuntu ubuntu 4.0K Jul 11 09:51 'Year=2023'\n",
      "drwxrwxr-x 17 ubuntu ubuntu 4.0K Jul 11 09:51 'Year=2024'\n"
     ]
    }
   ],
   "source": [
    "!ls -alh part_data\n",
    "#total size of 52K bites"
   ]
  },
  {
   "cell_type": "code",
   "execution_count": 6,
   "id": "916c0736-aacf-41d2-a2a2-468fab2f2108",
   "metadata": {
    "scrolled": true
   },
   "outputs": [
    {
     "data": {
      "text/html": [
       "<div>\n",
       "<style scoped>\n",
       "    .dataframe tbody tr th:only-of-type {\n",
       "        vertical-align: middle;\n",
       "    }\n",
       "\n",
       "    .dataframe tbody tr th {\n",
       "        vertical-align: top;\n",
       "    }\n",
       "\n",
       "    .dataframe thead th {\n",
       "        text-align: right;\n",
       "    }\n",
       "</style>\n",
       "<table border=\"1\" class=\"dataframe\">\n",
       "  <thead>\n",
       "    <tr style=\"text-align: right;\">\n",
       "      <th></th>\n",
       "      <th>FacilityName</th>\n",
       "      <th>Site ID</th>\n",
       "      <th>FacilityAddress</th>\n",
       "      <th>Energy Description</th>\n",
       "      <th>Month</th>\n",
       "      <th>Total Consumption</th>\n",
       "      <th>Unit</th>\n",
       "      <th>Year</th>\n",
       "      <th>Business Unit Desc</th>\n",
       "    </tr>\n",
       "  </thead>\n",
       "  <tbody>\n",
       "    <tr>\n",
       "      <th>1056466</th>\n",
       "      <td>WATER VALVE CHAMBER (CITY) - D-32835845 - AIRD...</td>\n",
       "      <td>0040001856704</td>\n",
       "      <td>10087 TOWNSHIP RD 262, ROCKY VIEW COUNTY</td>\n",
       "      <td>Electricity</td>\n",
       "      <td>Jan</td>\n",
       "      <td>4913</td>\n",
       "      <td>Kwh</td>\n",
       "      <td>2024</td>\n",
       "      <td>Water Services</td>\n",
       "    </tr>\n",
       "    <tr>\n",
       "      <th>1056467</th>\n",
       "      <td>WATER VALVE CHAMBER (CITY) - D-32835845 - AIRD...</td>\n",
       "      <td>0040001856704</td>\n",
       "      <td>10087 TOWNSHIP RD 262, ROCKY VIEW COUNTY</td>\n",
       "      <td>Electricity</td>\n",
       "      <td>Mar</td>\n",
       "      <td>4613</td>\n",
       "      <td>Kwh</td>\n",
       "      <td>2024</td>\n",
       "      <td>Water Services</td>\n",
       "    </tr>\n",
       "    <tr>\n",
       "      <th>1056468</th>\n",
       "      <td>ZOO SANITARY STATION</td>\n",
       "      <td>0020002374551</td>\n",
       "      <td>1300 ZOO RD NE</td>\n",
       "      <td>Electricity</td>\n",
       "      <td>Feb</td>\n",
       "      <td>2030</td>\n",
       "      <td>Kwh</td>\n",
       "      <td>2024</td>\n",
       "      <td>Water Services</td>\n",
       "    </tr>\n",
       "    <tr>\n",
       "      <th>1056469</th>\n",
       "      <td>ZOO SANITARY STATION</td>\n",
       "      <td>0020002374551</td>\n",
       "      <td>1300 ZOO RD NE</td>\n",
       "      <td>Electricity</td>\n",
       "      <td>Jan</td>\n",
       "      <td>2893</td>\n",
       "      <td>Kwh</td>\n",
       "      <td>2024</td>\n",
       "      <td>Water Services</td>\n",
       "    </tr>\n",
       "    <tr>\n",
       "      <th>1056470</th>\n",
       "      <td>ZOO SANITARY STATION</td>\n",
       "      <td>0020002374551</td>\n",
       "      <td>1300 ZOO RD NE</td>\n",
       "      <td>Electricity</td>\n",
       "      <td>Mar</td>\n",
       "      <td>2166</td>\n",
       "      <td>Kwh</td>\n",
       "      <td>2024</td>\n",
       "      <td>Water Services</td>\n",
       "    </tr>\n",
       "  </tbody>\n",
       "</table>\n",
       "</div>"
      ],
      "text/plain": [
       "                                              FacilityName        Site ID  \\\n",
       "1056466  WATER VALVE CHAMBER (CITY) - D-32835845 - AIRD...  0040001856704   \n",
       "1056467  WATER VALVE CHAMBER (CITY) - D-32835845 - AIRD...  0040001856704   \n",
       "1056468                               ZOO SANITARY STATION  0020002374551   \n",
       "1056469                               ZOO SANITARY STATION  0020002374551   \n",
       "1056470                               ZOO SANITARY STATION  0020002374551   \n",
       "\n",
       "                                  FacilityAddress Energy Description Month  \\\n",
       "1056466  10087 TOWNSHIP RD 262, ROCKY VIEW COUNTY        Electricity   Jan   \n",
       "1056467  10087 TOWNSHIP RD 262, ROCKY VIEW COUNTY        Electricity   Mar   \n",
       "1056468                            1300 ZOO RD NE        Electricity   Feb   \n",
       "1056469                            1300 ZOO RD NE        Electricity   Jan   \n",
       "1056470                            1300 ZOO RD NE        Electricity   Mar   \n",
       "\n",
       "         Total Consumption Unit  Year Business Unit Desc  \n",
       "1056466               4913  Kwh  2024     Water Services  \n",
       "1056467               4613  Kwh  2024     Water Services  \n",
       "1056468               2030  Kwh  2024     Water Services  \n",
       "1056469               2893  Kwh  2024     Water Services  \n",
       "1056470               2166  Kwh  2024     Water Services  "
      ]
     },
     "metadata": {},
     "output_type": "display_data"
    }
   ],
   "source": [
    "display(pd.read_parquet('part_data/').tail())"
   ]
  },
  {
   "cell_type": "code",
   "execution_count": 7,
   "id": "5c029d0c-a6f7-4cb8-b7e7-acaff47f04b5",
   "metadata": {},
   "outputs": [
    {
     "name": "stdout",
     "output_type": "stream",
     "text": [
      "Original File name: Corporate_Energy_Consumption_20240709.csv\n",
      "New File name: CEC.csv\n",
      "File size: 35605883 Bytes\n"
     ]
    }
   ],
   "source": [
    "file_stats = os.stat('CEC.csv')\n",
    "file_size = file_stats.st_size #in bytes\n",
    "\n",
    "print(f\"Original File name: Corporate_Energy_Consumption_20240709.csv\")\n",
    "print(f\"New File name: CEC.csv\")\n",
    "print(f\"File size: {file_stats.st_size} Bytes\")"
   ]
  },
  {
   "cell_type": "markdown",
   "id": "82799643-705f-4877-ab74-7571fb3490b0",
   "metadata": {},
   "source": [
    "### Step 3 | Comparing Query Performance\n",
    "\n",
    "In this step, you will compare the performance of query execution for three scenarios:\n",
    "\n",
    "1. Entire dataset in memory in the form of a `pandas` dataframe.\n",
    "2. Ingesting relevant data from parquet file(s) that reside(s) on your instance via filter push down and performing any subsequent processing in memory via `pandas`.\n",
    "3. Ingesting data via the SODA API end-point and executing any required filtering and aggregation operations at source via the SODA API.\n",
    "\n",
    "Gather timing data for the following analytics tasks.\n",
    "\n",
    "Determine the total amount of electricity used by the top 10 electricity consumers for:\n",
    "- the year 2023,\n",
    "- the five year period from 2019-2023, and \n",
    "- the ten year period from 2014-2023.\n",
    "\n",
    "Produce charts that show:\n",
    "\n",
    "- Total electricity used by the top 10 electricity consumers for the periods indicated above.\n",
    "- Comparison of execution times between the three scenarios for the three periods indicated above.\n",
    "\n",
    "Include a markdown cell that discusses your timing data and findings. Is your timing data as expected? Comment on the reasons behind the observed differences."
   ]
  },
  {
   "cell_type": "code",
   "execution_count": 34,
   "id": "0499b8ce-bf4a-4c77-8440-b6b07c4bac01",
   "metadata": {},
   "outputs": [
    {
     "name": "stdout",
     "output_type": "stream",
     "text": [
      "Query time for the year 2023: 0.0082 seconds\n",
      "Query time for the five-year period from 2019-2023: 0.0239 seconds\n",
      "Query time for the ten-year period from 2014-2023: 0.0399 seconds\n"
     ]
    }
   ],
   "source": [
    "#Pandas Query\n",
    "\n",
    "def measure_query_time(df, query):\n",
    "    start_time = time.time()\n",
    "    result = query(df)\n",
    "    end_time = time.time()\n",
    "    return result, end_time - start_time\n",
    "\n",
    "def query_2023(df):\n",
    "    return df[df['Year'] == 2023]\n",
    "\n",
    "def query_2019_2023(df):\n",
    "    return df[(df['Year'] >= 2019) & (df['Year'] <= 2023)]\n",
    "\n",
    "def query_2014_2023(df):\n",
    "    return df[(df['Year'] >= 2014) & (df['Year'] <= 2023)]\n",
    "\n",
    "result_2023, ptime_2023 = measure_query_time(df, query_2023)\n",
    "result_2019_2023, ptime_2019_2023 = measure_query_time(df, query_2019_2023)\n",
    "result_2014_2023, ptime_2014_2023 = measure_query_time(df, query_2014_2023)\n",
    "\n",
    "# Print the timing data\n",
    "print(f\"Query time for the year 2023: {ptime_2023:.4f} seconds\")\n",
    "print(f\"Query time for the five-year period from 2019-2023: {ptime_2019_2023:.4f} seconds\")\n",
    "print(f\"Query time for the ten-year period from 2014-2023: {ptime_2014_2023:.4f} seconds\")"
   ]
  },
  {
   "cell_type": "code",
   "execution_count": 35,
   "id": "1ca80b8e-ed08-4145-ad78-26d6874a3427",
   "metadata": {},
   "outputs": [
    {
     "name": "stdout",
     "output_type": "stream",
     "text": [
      "Query time for the year 2023: 0.0836 seconds\n",
      "Query time for the five-year period from 2019-2023: 0.3936 seconds\n",
      "Query time for the ten-year period from 2014-2023: 0.6829 seconds\n"
     ]
    }
   ],
   "source": [
    "#Parquet Query\n",
    "\n",
    "# display(pd.read_parquet('part_data/Year=2023').head())\n",
    "\n",
    "def measure_query_time_parquet(path, filters=None):\n",
    "    start_time = time.time()\n",
    "    if filters:\n",
    "        result = pd.read_parquet(path, filters=filters)\n",
    "    else:\n",
    "        result = pd.read_parquet(path)\n",
    "    end_time = time.time()\n",
    "    return result, end_time - start_time\n",
    "\n",
    "result_2023, patime_2023 = measure_query_time_parquet('part_data/Year=2023')\n",
    "result_2019_2023, patime_2019_2023 = measure_query_time_parquet('part_data/', filters=[('Year','>=',2019), ('Year','<=', 2023)])\n",
    "result_2014_2023, patime_2014_2023 = measure_query_time_parquet('part_data/', filters=[('Year','>=',2014), ('Year','<=', 2024)])\n",
    "\n",
    "# # Print the timing data\n",
    "print(f\"Query time for the year 2023: {patime_2023:.4f} seconds\")\n",
    "print(f\"Query time for the five-year period from 2019-2023: {patime_2019_2023:.4f} seconds\")\n",
    "print(f\"Query time for the ten-year period from 2014-2023: {patime_2014_2023:.4f} seconds\")"
   ]
  },
  {
   "cell_type": "code",
   "execution_count": 19,
   "id": "e3aafb5a-efd8-4ad2-b2ed-37f7c6741bac",
   "metadata": {},
   "outputs": [
    {
     "name": "stdout",
     "output_type": "stream",
     "text": [
      "<class 'pandas.core.frame.DataFrame'>\n",
      "RangeIndex: 352157 entries, 0 to 352156\n",
      "Data columns (total 9 columns):\n",
      " #   Column              Non-Null Count   Dtype \n",
      "---  ------              --------------   ----- \n",
      " 0   business_unit_desc  352157 non-null  object\n",
      " 1   facilityname        352157 non-null  object\n",
      " 2   site_id             352157 non-null  object\n",
      " 3   facilityaddress     352157 non-null  object\n",
      " 4   energy_description  352157 non-null  object\n",
      " 5   year                352157 non-null  int64 \n",
      " 6   month               352157 non-null  object\n",
      " 7   total_consumption   352157 non-null  int64 \n",
      " 8   unit                352157 non-null  object\n",
      "dtypes: int64(2), object(7)\n",
      "memory usage: 24.2+ MB\n",
      "None\n"
     ]
    }
   ],
   "source": [
    "#SODA API query\n",
    "\n",
    "baseURL = 'https://data.calgary.ca/resource/crbp-innf.json'\n",
    "\n",
    "params = '?$limit=400000'\n",
    "epURL = baseURL + params\n",
    "\n",
    "cecDF = pd.read_json(epURL)\n",
    "print(cecDF.info())"
   ]
  },
  {
   "cell_type": "code",
   "execution_count": 83,
   "id": "5c28e530-9e34-4402-985a-5faea83bcdb2",
   "metadata": {
    "scrolled": true
   },
   "outputs": [],
   "source": [
    "# 2023 Query\n",
    "filter = '&year=2023'\n",
    "# %timeit filterDF = pd.read_json(epURL + filter)\n",
    "ap2023 = timeit.timeit(lambda: pd.read_json(epURL + filter), number=1)\n",
    "filterDF = pd.read_json(epURL + filter)\n",
    "# display(filterDF)"
   ]
  },
  {
   "cell_type": "code",
   "execution_count": 81,
   "id": "05b529f7-82a8-4abd-8b5a-734e673aa06e",
   "metadata": {
    "scrolled": true
   },
   "outputs": [],
   "source": [
    "# 2019-2023 Query\n",
    "filter2 = \"&$where=year%20between%20'2019'%20and%20'2023'\"\n",
    "           \n",
    "# %timeit filterDF2 = pd.read_json(epURL + filter2)\n",
    "ap2019_2023 = timeit.timeit(lambda: pd.read_json(epURL + filter2), number=1)\n",
    "filterDF2 = pd.read_json(epURL + filter2)\n",
    "# display(filterDF2)"
   ]
  },
  {
   "cell_type": "code",
   "execution_count": 82,
   "id": "462d4d65-f803-4225-bd2e-bb9c50fef61f",
   "metadata": {
    "scrolled": true
   },
   "outputs": [],
   "source": [
    "# 2014-2023 Query\n",
    "filter3 = \"&$where=year%20between%20'2014'%20and%20'2023'\"\n",
    "# %timeit filterDF3 = pd.read_json(epURL + filter3)\n",
    "ap2014_2023 = timeit.timeit(lambda: pd.read_json(epURL + filter3), number=1)\n",
    "filterDF3 = pd.read_json(epURL + filter3)\n",
    "# display(filterDF3)"
   ]
  },
  {
   "cell_type": "code",
   "execution_count": 78,
   "id": "1e04cace-c983-43fc-bc87-4032b8e54fcd",
   "metadata": {},
   "outputs": [
    {
     "data": {
      "text/plain": [
       "6.804469628999868"
      ]
     },
     "execution_count": 78,
     "metadata": {},
     "output_type": "execute_result"
    }
   ],
   "source": [
    "# ap2014_2023"
   ]
  },
  {
   "cell_type": "code",
   "execution_count": 85,
   "id": "69f5a323-f322-43d2-a476-830adc211acc",
   "metadata": {},
   "outputs": [
    {
     "data": {
      "image/png": "[encoded data removed]",
      "text/plain": [
       "<Figure size 800x600 with 1 Axes>"
      ]
     },
     "metadata": {},
     "output_type": "display_data"
    }
   ],
   "source": [
    "y1 = [ptime_2023, ptime_2019_2023, ptime_2014_2023]\n",
    "y2 = [patime_2023, patime_2019_2023, patime_2014_2023]\n",
    "y3 = [ap2023, ap2019_2023, ap2014_2023]\n",
    "\n",
    "x = [1,2,3]\n",
    "\n",
    "plt.figure(figsize=(8, 6))\n",
    "plt.plot(x, y1, marker='o', linestyle='-', color='b', label='pandas time')\n",
    "plt.plot(x, y2, marker='s', linestyle='--', color='g', label='paraquet time')\n",
    "plt.plot(x, y3, marker='^', linestyle='-.', color='r', label='API time')\n",
    "\n",
    "# Adding labels and title\n",
    "plt.xlabel('X')\n",
    "plt.ylabel('Y')\n",
    "plt.title('Plot of Query1, Query2, Query3')\n",
    "plt.xticks(x, ['2023', '2019-2023', '2014-2023'])  # Replace with meaningful labels\n",
    "plt.legend()\n",
    "\n",
    "# Display plot\n",
    "plt.grid(True)\n",
    "plt.tight_layout()\n",
    "plt.show()\n",
    "\n"
   ]
  },
  {
   "cell_type": "markdown",
   "id": "7d61aea7-9d0e-4b35-8014-51520e1f1963",
   "metadata": {},
   "source": [
    "### Timing Discussion\n",
    "\n",
    "We can clearly see that the farther we get away from local compute the slower the query time. The difference in time between the parquet and pandas query can be partially attributed to the data locality of the parquet files. To read each individual file created by the partitions creates a noticable latency. Compared to pandas which pandas which vectorizes the query all in one go in memory. Both are much faster than the SODA API query as this requires a network link, this put much more distance between the fetched files and the location of computation. \n",
    "\n",
    "In all cases the larger the data queried, the longer the time taken to compute."
   ]
  },
  {
   "cell_type": "code",
   "execution_count": 74,
   "id": "fcbc6357-a87b-4198-917d-298ad6870d25",
   "metadata": {},
   "outputs": [
    {
     "data": {
      "text/plain": [
       "<Figure size 1500x1000 with 0 Axes>"
      ]
     },
     "metadata": {},
     "output_type": "display_data"
    },
    {
     "data": {
      "image/png": "[encoded data removed]",
      "text/plain": [
       "<Figure size 640x480 with 1 Axes>"
      ]
     },
     "metadata": {},
     "output_type": "display_data"
    }
   ],
   "source": [
    "# Comparison Charts\n",
    "Q1 = df[df['Year'] == 2023]\n",
    "\n",
    "Q2 = df[(df['Year'] >= 2019) & (df['Year'] <= 2023)]\n",
    "\n",
    "Q3 = df[(df['Year'] >= 2014) & (df['Year'] <= 2023)]\n",
    "\n",
    "def top_10(df):\n",
    "    grouped_df = df.groupby('Business Unit Desc')['Total Consumption'].sum()\n",
    "    top_10_business_units = grouped_df.sort_values(ascending=False).head(10)\n",
    "    return top_10_business_units\n",
    "\n",
    "topQ1 = top_10(Q1)\n",
    "topQ2 = top_10(Q2)\n",
    "topQ3 = top_10(Q3)\n",
    "\n",
    "combined_df = pd.DataFrame({\n",
    "    'Q1 (2023)': topQ1,\n",
    "    'Q2 (2019-2023)': topQ2,\n",
    "    'Q3 (2014-2023)': topQ3\n",
    "})\n",
    "\n",
    "all_business_units = combined_df.index.union(topQ2.index).union(topQ3.index)\n",
    "\n",
    "combined_df = combined_df.reindex(all_business_units).fillna(0) \n",
    "\n",
    "combined_df['Total'] = combined_df.sum(axis=1)\n",
    "combined_df_sorted = combined_df.sort_values(by='Total', ascending=False).drop('Total', axis=1)\n",
    "\n",
    "plt.figure(figsize=(15, 10))\n",
    "combined_df_sorted.plot(kind='bar', stacked=True)\n",
    "\n",
    "plt.xlabel('Business Unit Description')\n",
    "plt.ylabel('Total Electricity Usage')\n",
    "plt.title('Total Electricity Usage by Top 10 Business Units (Sorted)')\n",
    "plt.legend(title='Quarter')\n",
    "\n",
    "plt.tight_layout()\n",
    "plt.show()"
   ]
  }
 ],
 "metadata": {
  "kernelspec": {
   "display_name": "Python 3 (ipykernel)",
   "language": "python",
   "name": "python3"
  },
  "language_info": {
   "codemirror_mode": {
    "name": "ipython",
    "version": 3
   },
   "file_extension": ".py",
   "mimetype": "text/x-python",
   "name": "python",
   "nbconvert_exporter": "python",
   "pygments_lexer": "ipython3",
   "version": "3.11.6"
  }
 },
 "nbformat": 4,
 "nbformat_minor": 5
}
