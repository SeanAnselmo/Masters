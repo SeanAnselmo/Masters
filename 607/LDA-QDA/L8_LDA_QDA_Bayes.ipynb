{
 "cells": [
  {
   "cell_type": "markdown",
   "metadata": {
    "id": "TMwKqGg1NzoH"
   },
   "source": [
    "### Generative Models\n",
    "\n",
    "1.   Generative models are a class of machine learning models designed to learn and understand the underlying structure of the      data they are trained on, with the ultimate goal of generating new data samples that are similar to the training data.          These models are particularly useful for tasks such as image generation, text generation, and even music composition.\n",
    "\n",
    "Generative models aim to learn the probability distribution of the training data. This means they try to understand what makes the data samples similar to each other and what makes them different. By capturing these patterns, the model can generate new samples that resemble the training data. **LDA, NN and some time series models are generative.**\n",
    "\n",
    "Examples:\n",
    "Image generation: Generative models can be used to create realistic images, such as generating new human faces or              creating artwork.\n",
    "\n",
    "Text generation: These models can generate text in various styles or even continue a given piece of text.\n",
    "              \n",
    "Data augmentation: Generative models can be used to augment datasets by generating additional realistic data                   samples, which can improve the performance of machine learning models trained on limited data.\n",
    "              \n",
    "Anomaly detection: By learning the normal distribution of the data, generative models can identify anomalies or                 outliers that deviate significantly from the learned distribution.\n",
    "              \n",
    "**Generative models capture the joint probability $p(X, Y)$, or just $p(X)$ if there are no labels.**\n",
    "     \n",
    "2.   Discriminative models are a class of machine learning models that focus on learning the boundary or decision boundary          between different classes in the input data. Unlike generative models that model the underlying distribution of the data,      discriminant models directly learn the mapping from input features to class labels.\n",
    "\n",
    "LR, SVM are some models. LDA and NN can also be considered discriminative when focusing on generating decision boundaries. \n",
    "\n",
    "Discriminative models capture the conditional probability $p(Y | X)$.\n",
    "\n",
    "-----------------------------------------------------------------------------------------------------------------------------\n",
    "Modeling the **joint distribution** $p(x,y)$ giving rise to the data\n",
    "\n",
    "$$\n",
    "(x_1,y_1),\\ldots,(x_n,y_n).\n",
    "$$\n",
    "\n",
    "Regression and classification require only modeling the **conditional distribution** $p(y\\mid x)$, since our goal is to predict $y$ from $x$.\n",
    "\n",
    "Sometimes, though, modeling the joint distribution is fairly natural and extremely useful.\n",
    "\n",
    "In particular, modeling $p(x,y)$ allows us to sample (generate) new data points $(x,y)$. This facilitates machine learning models that create, not just predict!\n"
   ]
  },
  {
   "cell_type": "markdown",
   "metadata": {
    "id": "-RTJFPS-b7Tg"
   },
   "source": [
    "LDA, QDA, Naive Bayes classifier are called the Bayes classifier, owing to the use of the Bayes rule in its derivation."
   ]
  },
  {
   "cell_type": "markdown",
   "metadata": {
    "id": "SvF6AWhnWv-f"
   },
   "source": [
    "## Linear Discriminant Analysis"
   ]
  },
  {
   "cell_type": "code",
   "execution_count": 1,
   "metadata": {
    "executionInfo": {
     "elapsed": 5343,
     "status": "ok",
     "timestamp": 1690235074377,
     "user": {
      "displayName": "Qingrun ZHANG",
      "userId": "01467426992177127579"
     },
     "user_tz": 360
    },
    "id": "voVxQhcLu-ar"
   },
   "outputs": [],
   "source": [
    "import numpy as np\n",
    "import matplotlib.pyplot as plt\n",
    "import pandas as pd\n",
    "import statsmodels.discrete.discrete_model as sm\n",
    "import statsmodels.formula.api as smf\n",
    "import statsmodels.api as sma\n",
    "from statsmodels.graphics.regressionplots import *\n",
    "from sklearn import datasets, linear_model\n",
    "from sklearn.metrics import confusion_matrix\n",
    "from sklearn.discriminant_analysis import LinearDiscriminantAnalysis as LDA\n",
    "from sklearn.discriminant_analysis import QuadraticDiscriminantAnalysis as QDA\n",
    "from sklearn.naive_bayes import GaussianNB as NB\n",
    "from sklearn.neighbors import KNeighborsClassifier as KNN\n",
    "from sklearn import preprocessing"
   ]
  },
  {
   "cell_type": "code",
   "execution_count": 3,
   "metadata": {
    "executionInfo": {
     "elapsed": 3,
     "status": "ok",
     "timestamp": 1690235129299,
     "user": {
      "displayName": "Qingrun ZHANG",
      "userId": "01467426992177127579"
     },
     "user_tz": 360
    },
    "id": "sACYB2XJQso3"
   },
   "outputs": [
    {
     "data": {
      "text/html": [
       "<div>\n",
       "<style scoped>\n",
       "    .dataframe tbody tr th:only-of-type {\n",
       "        vertical-align: middle;\n",
       "    }\n",
       "\n",
       "    .dataframe tbody tr th {\n",
       "        vertical-align: top;\n",
       "    }\n",
       "\n",
       "    .dataframe thead th {\n",
       "        text-align: right;\n",
       "    }\n",
       "</style>\n",
       "<table border=\"1\" class=\"dataframe\">\n",
       "  <thead>\n",
       "    <tr style=\"text-align: right;\">\n",
       "      <th></th>\n",
       "      <th>Year</th>\n",
       "      <th>Lag1</th>\n",
       "      <th>Lag2</th>\n",
       "      <th>Lag3</th>\n",
       "      <th>Lag4</th>\n",
       "      <th>Lag5</th>\n",
       "      <th>Volume</th>\n",
       "      <th>Today</th>\n",
       "      <th>Direction</th>\n",
       "    </tr>\n",
       "  </thead>\n",
       "  <tbody>\n",
       "    <tr>\n",
       "      <th>0</th>\n",
       "      <td>2001</td>\n",
       "      <td>0.381</td>\n",
       "      <td>-0.192</td>\n",
       "      <td>-2.624</td>\n",
       "      <td>-1.055</td>\n",
       "      <td>5.010</td>\n",
       "      <td>1.19130</td>\n",
       "      <td>0.959</td>\n",
       "      <td>Up</td>\n",
       "    </tr>\n",
       "    <tr>\n",
       "      <th>1</th>\n",
       "      <td>2001</td>\n",
       "      <td>0.959</td>\n",
       "      <td>0.381</td>\n",
       "      <td>-0.192</td>\n",
       "      <td>-2.624</td>\n",
       "      <td>-1.055</td>\n",
       "      <td>1.29650</td>\n",
       "      <td>1.032</td>\n",
       "      <td>Up</td>\n",
       "    </tr>\n",
       "    <tr>\n",
       "      <th>2</th>\n",
       "      <td>2001</td>\n",
       "      <td>1.032</td>\n",
       "      <td>0.959</td>\n",
       "      <td>0.381</td>\n",
       "      <td>-0.192</td>\n",
       "      <td>-2.624</td>\n",
       "      <td>1.41120</td>\n",
       "      <td>-0.623</td>\n",
       "      <td>Down</td>\n",
       "    </tr>\n",
       "    <tr>\n",
       "      <th>3</th>\n",
       "      <td>2001</td>\n",
       "      <td>-0.623</td>\n",
       "      <td>1.032</td>\n",
       "      <td>0.959</td>\n",
       "      <td>0.381</td>\n",
       "      <td>-0.192</td>\n",
       "      <td>1.27600</td>\n",
       "      <td>0.614</td>\n",
       "      <td>Up</td>\n",
       "    </tr>\n",
       "    <tr>\n",
       "      <th>4</th>\n",
       "      <td>2001</td>\n",
       "      <td>0.614</td>\n",
       "      <td>-0.623</td>\n",
       "      <td>1.032</td>\n",
       "      <td>0.959</td>\n",
       "      <td>0.381</td>\n",
       "      <td>1.20570</td>\n",
       "      <td>0.213</td>\n",
       "      <td>Up</td>\n",
       "    </tr>\n",
       "    <tr>\n",
       "      <th>...</th>\n",
       "      <td>...</td>\n",
       "      <td>...</td>\n",
       "      <td>...</td>\n",
       "      <td>...</td>\n",
       "      <td>...</td>\n",
       "      <td>...</td>\n",
       "      <td>...</td>\n",
       "      <td>...</td>\n",
       "      <td>...</td>\n",
       "    </tr>\n",
       "    <tr>\n",
       "      <th>1245</th>\n",
       "      <td>2005</td>\n",
       "      <td>0.422</td>\n",
       "      <td>0.252</td>\n",
       "      <td>-0.024</td>\n",
       "      <td>-0.584</td>\n",
       "      <td>-0.285</td>\n",
       "      <td>1.88850</td>\n",
       "      <td>0.043</td>\n",
       "      <td>Up</td>\n",
       "    </tr>\n",
       "    <tr>\n",
       "      <th>1246</th>\n",
       "      <td>2005</td>\n",
       "      <td>0.043</td>\n",
       "      <td>0.422</td>\n",
       "      <td>0.252</td>\n",
       "      <td>-0.024</td>\n",
       "      <td>-0.584</td>\n",
       "      <td>1.28581</td>\n",
       "      <td>-0.955</td>\n",
       "      <td>Down</td>\n",
       "    </tr>\n",
       "    <tr>\n",
       "      <th>1247</th>\n",
       "      <td>2005</td>\n",
       "      <td>-0.955</td>\n",
       "      <td>0.043</td>\n",
       "      <td>0.422</td>\n",
       "      <td>0.252</td>\n",
       "      <td>-0.024</td>\n",
       "      <td>1.54047</td>\n",
       "      <td>0.130</td>\n",
       "      <td>Up</td>\n",
       "    </tr>\n",
       "    <tr>\n",
       "      <th>1248</th>\n",
       "      <td>2005</td>\n",
       "      <td>0.130</td>\n",
       "      <td>-0.955</td>\n",
       "      <td>0.043</td>\n",
       "      <td>0.422</td>\n",
       "      <td>0.252</td>\n",
       "      <td>1.42236</td>\n",
       "      <td>-0.298</td>\n",
       "      <td>Down</td>\n",
       "    </tr>\n",
       "    <tr>\n",
       "      <th>1249</th>\n",
       "      <td>2005</td>\n",
       "      <td>-0.298</td>\n",
       "      <td>0.130</td>\n",
       "      <td>-0.955</td>\n",
       "      <td>0.043</td>\n",
       "      <td>0.422</td>\n",
       "      <td>1.38254</td>\n",
       "      <td>-0.489</td>\n",
       "      <td>Down</td>\n",
       "    </tr>\n",
       "  </tbody>\n",
       "</table>\n",
       "<p>1250 rows × 9 columns</p>\n",
       "</div>"
      ],
      "text/plain": [
       "      Year   Lag1   Lag2   Lag3   Lag4   Lag5   Volume  Today Direction\n",
       "0     2001  0.381 -0.192 -2.624 -1.055  5.010  1.19130  0.959        Up\n",
       "1     2001  0.959  0.381 -0.192 -2.624 -1.055  1.29650  1.032        Up\n",
       "2     2001  1.032  0.959  0.381 -0.192 -2.624  1.41120 -0.623      Down\n",
       "3     2001 -0.623  1.032  0.959  0.381 -0.192  1.27600  0.614        Up\n",
       "4     2001  0.614 -0.623  1.032  0.959  0.381  1.20570  0.213        Up\n",
       "...    ...    ...    ...    ...    ...    ...      ...    ...       ...\n",
       "1245  2005  0.422  0.252 -0.024 -0.584 -0.285  1.88850  0.043        Up\n",
       "1246  2005  0.043  0.422  0.252 -0.024 -0.584  1.28581 -0.955      Down\n",
       "1247  2005 -0.955  0.043  0.422  0.252 -0.024  1.54047  0.130        Up\n",
       "1248  2005  0.130 -0.955  0.043  0.422  0.252  1.42236 -0.298      Down\n",
       "1249  2005 -0.298  0.130 -0.955  0.043  0.422  1.38254 -0.489      Down\n",
       "\n",
       "[1250 rows x 9 columns]"
      ]
     },
     "execution_count": 3,
     "metadata": {},
     "output_type": "execute_result"
    }
   ],
   "source": [
    "#https://rdrr.io/cran/ISLR/man/Smarket.html\n",
    "Smarket = pd.read_csv('Smarket1.csv', header=0)\n",
    "Smarket"
   ]
  },
  {
   "cell_type": "code",
   "execution_count": 130,
   "metadata": {
    "executionInfo": {
     "elapsed": 9,
     "status": "ok",
     "timestamp": 1690235129519,
     "user": {
      "displayName": "Qingrun ZHANG",
      "userId": "01467426992177127579"
     },
     "user_tz": 360
    },
    "id": "cp_DEVOCX0k6"
   },
   "outputs": [],
   "source": [
    "Smarket_2005 = Smarket.query('Year >= 2005')\n",
    "Smarket_train = Smarket.query('Year < 2005')"
   ]
  },
  {
   "cell_type": "code",
   "execution_count": 131,
   "metadata": {
    "colab": {
     "base_uri": "https://localhost:8080/",
     "height": 424
    },
    "executionInfo": {
     "elapsed": 8,
     "status": "ok",
     "timestamp": 1690235129519,
     "user": {
      "displayName": "Qingrun ZHANG",
      "userId": "01467426992177127579"
     },
     "user_tz": 360
    },
    "id": "a56heEdpyxmX",
    "outputId": "4cdda2e3-bb2c-412d-b1cd-41360d6d6179"
   },
   "outputs": [
    {
     "data": {
      "text/html": [
       "<div>\n",
       "<style scoped>\n",
       "    .dataframe tbody tr th:only-of-type {\n",
       "        vertical-align: middle;\n",
       "    }\n",
       "\n",
       "    .dataframe tbody tr th {\n",
       "        vertical-align: top;\n",
       "    }\n",
       "\n",
       "    .dataframe thead th {\n",
       "        text-align: right;\n",
       "    }\n",
       "</style>\n",
       "<table border=\"1\" class=\"dataframe\">\n",
       "  <thead>\n",
       "    <tr style=\"text-align: right;\">\n",
       "      <th></th>\n",
       "      <th>Year</th>\n",
       "      <th>Lag1</th>\n",
       "      <th>Lag2</th>\n",
       "      <th>Lag3</th>\n",
       "      <th>Lag4</th>\n",
       "      <th>Lag5</th>\n",
       "      <th>Volume</th>\n",
       "      <th>Today</th>\n",
       "      <th>Direction</th>\n",
       "    </tr>\n",
       "  </thead>\n",
       "  <tbody>\n",
       "    <tr>\n",
       "      <th>0</th>\n",
       "      <td>2001</td>\n",
       "      <td>0.381</td>\n",
       "      <td>-0.192</td>\n",
       "      <td>-2.624</td>\n",
       "      <td>-1.055</td>\n",
       "      <td>5.010</td>\n",
       "      <td>1.1913</td>\n",
       "      <td>0.959</td>\n",
       "      <td>Up</td>\n",
       "    </tr>\n",
       "    <tr>\n",
       "      <th>1</th>\n",
       "      <td>2001</td>\n",
       "      <td>0.959</td>\n",
       "      <td>0.381</td>\n",
       "      <td>-0.192</td>\n",
       "      <td>-2.624</td>\n",
       "      <td>-1.055</td>\n",
       "      <td>1.2965</td>\n",
       "      <td>1.032</td>\n",
       "      <td>Up</td>\n",
       "    </tr>\n",
       "    <tr>\n",
       "      <th>2</th>\n",
       "      <td>2001</td>\n",
       "      <td>1.032</td>\n",
       "      <td>0.959</td>\n",
       "      <td>0.381</td>\n",
       "      <td>-0.192</td>\n",
       "      <td>-2.624</td>\n",
       "      <td>1.4112</td>\n",
       "      <td>-0.623</td>\n",
       "      <td>Down</td>\n",
       "    </tr>\n",
       "    <tr>\n",
       "      <th>3</th>\n",
       "      <td>2001</td>\n",
       "      <td>-0.623</td>\n",
       "      <td>1.032</td>\n",
       "      <td>0.959</td>\n",
       "      <td>0.381</td>\n",
       "      <td>-0.192</td>\n",
       "      <td>1.2760</td>\n",
       "      <td>0.614</td>\n",
       "      <td>Up</td>\n",
       "    </tr>\n",
       "    <tr>\n",
       "      <th>4</th>\n",
       "      <td>2001</td>\n",
       "      <td>0.614</td>\n",
       "      <td>-0.623</td>\n",
       "      <td>1.032</td>\n",
       "      <td>0.959</td>\n",
       "      <td>0.381</td>\n",
       "      <td>1.2057</td>\n",
       "      <td>0.213</td>\n",
       "      <td>Up</td>\n",
       "    </tr>\n",
       "    <tr>\n",
       "      <th>...</th>\n",
       "      <td>...</td>\n",
       "      <td>...</td>\n",
       "      <td>...</td>\n",
       "      <td>...</td>\n",
       "      <td>...</td>\n",
       "      <td>...</td>\n",
       "      <td>...</td>\n",
       "      <td>...</td>\n",
       "      <td>...</td>\n",
       "    </tr>\n",
       "    <tr>\n",
       "      <th>993</th>\n",
       "      <td>2004</td>\n",
       "      <td>0.046</td>\n",
       "      <td>0.342</td>\n",
       "      <td>0.904</td>\n",
       "      <td>0.038</td>\n",
       "      <td>-0.749</td>\n",
       "      <td>0.9561</td>\n",
       "      <td>-0.431</td>\n",
       "      <td>Down</td>\n",
       "    </tr>\n",
       "    <tr>\n",
       "      <th>994</th>\n",
       "      <td>2004</td>\n",
       "      <td>-0.431</td>\n",
       "      <td>0.046</td>\n",
       "      <td>0.342</td>\n",
       "      <td>0.904</td>\n",
       "      <td>0.038</td>\n",
       "      <td>0.9220</td>\n",
       "      <td>0.715</td>\n",
       "      <td>Up</td>\n",
       "    </tr>\n",
       "    <tr>\n",
       "      <th>995</th>\n",
       "      <td>2004</td>\n",
       "      <td>0.715</td>\n",
       "      <td>-0.431</td>\n",
       "      <td>0.046</td>\n",
       "      <td>0.342</td>\n",
       "      <td>0.904</td>\n",
       "      <td>0.9830</td>\n",
       "      <td>-0.007</td>\n",
       "      <td>Down</td>\n",
       "    </tr>\n",
       "    <tr>\n",
       "      <th>996</th>\n",
       "      <td>2004</td>\n",
       "      <td>-0.007</td>\n",
       "      <td>0.715</td>\n",
       "      <td>-0.431</td>\n",
       "      <td>0.046</td>\n",
       "      <td>0.342</td>\n",
       "      <td>0.9259</td>\n",
       "      <td>0.008</td>\n",
       "      <td>Up</td>\n",
       "    </tr>\n",
       "    <tr>\n",
       "      <th>997</th>\n",
       "      <td>2004</td>\n",
       "      <td>0.008</td>\n",
       "      <td>-0.007</td>\n",
       "      <td>0.715</td>\n",
       "      <td>-0.431</td>\n",
       "      <td>0.046</td>\n",
       "      <td>0.8298</td>\n",
       "      <td>-0.134</td>\n",
       "      <td>Down</td>\n",
       "    </tr>\n",
       "  </tbody>\n",
       "</table>\n",
       "<p>998 rows × 9 columns</p>\n",
       "</div>"
      ],
      "text/plain": [
       "     Year   Lag1   Lag2   Lag3   Lag4   Lag5  Volume  Today Direction\n",
       "0    2001  0.381 -0.192 -2.624 -1.055  5.010  1.1913  0.959        Up\n",
       "1    2001  0.959  0.381 -0.192 -2.624 -1.055  1.2965  1.032        Up\n",
       "2    2001  1.032  0.959  0.381 -0.192 -2.624  1.4112 -0.623      Down\n",
       "3    2001 -0.623  1.032  0.959  0.381 -0.192  1.2760  0.614        Up\n",
       "4    2001  0.614 -0.623  1.032  0.959  0.381  1.2057  0.213        Up\n",
       "..    ...    ...    ...    ...    ...    ...     ...    ...       ...\n",
       "993  2004  0.046  0.342  0.904  0.038 -0.749  0.9561 -0.431      Down\n",
       "994  2004 -0.431  0.046  0.342  0.904  0.038  0.9220  0.715        Up\n",
       "995  2004  0.715 -0.431  0.046  0.342  0.904  0.9830 -0.007      Down\n",
       "996  2004 -0.007  0.715 -0.431  0.046  0.342  0.9259  0.008        Up\n",
       "997  2004  0.008 -0.007  0.715 -0.431  0.046  0.8298 -0.134      Down\n",
       "\n",
       "[998 rows x 9 columns]"
      ]
     },
     "execution_count": 131,
     "metadata": {},
     "output_type": "execute_result"
    }
   ],
   "source": [
    "Smarket_train"
   ]
  },
  {
   "cell_type": "code",
   "execution_count": 132,
   "metadata": {},
   "outputs": [
    {
     "data": {
      "text/html": [
       "<div>\n",
       "<style scoped>\n",
       "    .dataframe tbody tr th:only-of-type {\n",
       "        vertical-align: middle;\n",
       "    }\n",
       "\n",
       "    .dataframe tbody tr th {\n",
       "        vertical-align: top;\n",
       "    }\n",
       "\n",
       "    .dataframe thead th {\n",
       "        text-align: right;\n",
       "    }\n",
       "</style>\n",
       "<table border=\"1\" class=\"dataframe\">\n",
       "  <thead>\n",
       "    <tr style=\"text-align: right;\">\n",
       "      <th></th>\n",
       "      <th>Lag1</th>\n",
       "      <th>Lag2</th>\n",
       "      <th>Lag3</th>\n",
       "      <th>Lag4</th>\n",
       "      <th>Lag5</th>\n",
       "    </tr>\n",
       "  </thead>\n",
       "  <tbody>\n",
       "    <tr>\n",
       "      <th>0</th>\n",
       "      <td>0.381</td>\n",
       "      <td>-0.192</td>\n",
       "      <td>-2.624</td>\n",
       "      <td>-1.055</td>\n",
       "      <td>5.010</td>\n",
       "    </tr>\n",
       "    <tr>\n",
       "      <th>1</th>\n",
       "      <td>0.959</td>\n",
       "      <td>0.381</td>\n",
       "      <td>-0.192</td>\n",
       "      <td>-2.624</td>\n",
       "      <td>-1.055</td>\n",
       "    </tr>\n",
       "    <tr>\n",
       "      <th>2</th>\n",
       "      <td>1.032</td>\n",
       "      <td>0.959</td>\n",
       "      <td>0.381</td>\n",
       "      <td>-0.192</td>\n",
       "      <td>-2.624</td>\n",
       "    </tr>\n",
       "    <tr>\n",
       "      <th>3</th>\n",
       "      <td>-0.623</td>\n",
       "      <td>1.032</td>\n",
       "      <td>0.959</td>\n",
       "      <td>0.381</td>\n",
       "      <td>-0.192</td>\n",
       "    </tr>\n",
       "    <tr>\n",
       "      <th>4</th>\n",
       "      <td>0.614</td>\n",
       "      <td>-0.623</td>\n",
       "      <td>1.032</td>\n",
       "      <td>0.959</td>\n",
       "      <td>0.381</td>\n",
       "    </tr>\n",
       "    <tr>\n",
       "      <th>...</th>\n",
       "      <td>...</td>\n",
       "      <td>...</td>\n",
       "      <td>...</td>\n",
       "      <td>...</td>\n",
       "      <td>...</td>\n",
       "    </tr>\n",
       "    <tr>\n",
       "      <th>993</th>\n",
       "      <td>0.046</td>\n",
       "      <td>0.342</td>\n",
       "      <td>0.904</td>\n",
       "      <td>0.038</td>\n",
       "      <td>-0.749</td>\n",
       "    </tr>\n",
       "    <tr>\n",
       "      <th>994</th>\n",
       "      <td>-0.431</td>\n",
       "      <td>0.046</td>\n",
       "      <td>0.342</td>\n",
       "      <td>0.904</td>\n",
       "      <td>0.038</td>\n",
       "    </tr>\n",
       "    <tr>\n",
       "      <th>995</th>\n",
       "      <td>0.715</td>\n",
       "      <td>-0.431</td>\n",
       "      <td>0.046</td>\n",
       "      <td>0.342</td>\n",
       "      <td>0.904</td>\n",
       "    </tr>\n",
       "    <tr>\n",
       "      <th>996</th>\n",
       "      <td>-0.007</td>\n",
       "      <td>0.715</td>\n",
       "      <td>-0.431</td>\n",
       "      <td>0.046</td>\n",
       "      <td>0.342</td>\n",
       "    </tr>\n",
       "    <tr>\n",
       "      <th>997</th>\n",
       "      <td>0.008</td>\n",
       "      <td>-0.007</td>\n",
       "      <td>0.715</td>\n",
       "      <td>-0.431</td>\n",
       "      <td>0.046</td>\n",
       "    </tr>\n",
       "  </tbody>\n",
       "</table>\n",
       "<p>998 rows × 5 columns</p>\n",
       "</div>"
      ],
      "text/plain": [
       "      Lag1   Lag2   Lag3   Lag4   Lag5\n",
       "0    0.381 -0.192 -2.624 -1.055  5.010\n",
       "1    0.959  0.381 -0.192 -2.624 -1.055\n",
       "2    1.032  0.959  0.381 -0.192 -2.624\n",
       "3   -0.623  1.032  0.959  0.381 -0.192\n",
       "4    0.614 -0.623  1.032  0.959  0.381\n",
       "..     ...    ...    ...    ...    ...\n",
       "993  0.046  0.342  0.904  0.038 -0.749\n",
       "994 -0.431  0.046  0.342  0.904  0.038\n",
       "995  0.715 -0.431  0.046  0.342  0.904\n",
       "996 -0.007  0.715 -0.431  0.046  0.342\n",
       "997  0.008 -0.007  0.715 -0.431  0.046\n",
       "\n",
       "[998 rows x 5 columns]"
      ]
     },
     "execution_count": 132,
     "metadata": {},
     "output_type": "execute_result"
    }
   ],
   "source": [
    "X_train = Smarket_train[['Lag1', 'Lag2', 'Lag3', 'Lag4', 'Lag5']]\n",
    "y_train = pd.get_dummies(Smarket_train[['Direction']], dtype=int)\n",
    "\n",
    "X_test = Smarket_2005[['Lag1', 'Lag2', 'Lag3', 'Lag4', 'Lag5']]\n",
    "y_test = pd.get_dummies(Smarket_2005[['Direction']], dtype=int)\n",
    "\n",
    "X_train"
   ]
  },
  {
   "cell_type": "code",
   "execution_count": 133,
   "metadata": {},
   "outputs": [
    {
     "data": {
      "text/html": [
       "<div>\n",
       "<style scoped>\n",
       "    .dataframe tbody tr th:only-of-type {\n",
       "        vertical-align: middle;\n",
       "    }\n",
       "\n",
       "    .dataframe tbody tr th {\n",
       "        vertical-align: top;\n",
       "    }\n",
       "\n",
       "    .dataframe thead th {\n",
       "        text-align: right;\n",
       "    }\n",
       "</style>\n",
       "<table border=\"1\" class=\"dataframe\">\n",
       "  <thead>\n",
       "    <tr style=\"text-align: right;\">\n",
       "      <th></th>\n",
       "      <th>Direction_Down</th>\n",
       "      <th>Direction_Up</th>\n",
       "    </tr>\n",
       "  </thead>\n",
       "  <tbody>\n",
       "    <tr>\n",
       "      <th>0</th>\n",
       "      <td>0</td>\n",
       "      <td>1</td>\n",
       "    </tr>\n",
       "    <tr>\n",
       "      <th>1</th>\n",
       "      <td>0</td>\n",
       "      <td>1</td>\n",
       "    </tr>\n",
       "    <tr>\n",
       "      <th>2</th>\n",
       "      <td>1</td>\n",
       "      <td>0</td>\n",
       "    </tr>\n",
       "    <tr>\n",
       "      <th>3</th>\n",
       "      <td>0</td>\n",
       "      <td>1</td>\n",
       "    </tr>\n",
       "    <tr>\n",
       "      <th>4</th>\n",
       "      <td>0</td>\n",
       "      <td>1</td>\n",
       "    </tr>\n",
       "    <tr>\n",
       "      <th>...</th>\n",
       "      <td>...</td>\n",
       "      <td>...</td>\n",
       "    </tr>\n",
       "    <tr>\n",
       "      <th>993</th>\n",
       "      <td>1</td>\n",
       "      <td>0</td>\n",
       "    </tr>\n",
       "    <tr>\n",
       "      <th>994</th>\n",
       "      <td>0</td>\n",
       "      <td>1</td>\n",
       "    </tr>\n",
       "    <tr>\n",
       "      <th>995</th>\n",
       "      <td>1</td>\n",
       "      <td>0</td>\n",
       "    </tr>\n",
       "    <tr>\n",
       "      <th>996</th>\n",
       "      <td>0</td>\n",
       "      <td>1</td>\n",
       "    </tr>\n",
       "    <tr>\n",
       "      <th>997</th>\n",
       "      <td>1</td>\n",
       "      <td>0</td>\n",
       "    </tr>\n",
       "  </tbody>\n",
       "</table>\n",
       "<p>998 rows × 2 columns</p>\n",
       "</div>"
      ],
      "text/plain": [
       "     Direction_Down  Direction_Up\n",
       "0                 0             1\n",
       "1                 0             1\n",
       "2                 1             0\n",
       "3                 0             1\n",
       "4                 0             1\n",
       "..              ...           ...\n",
       "993               1             0\n",
       "994               0             1\n",
       "995               1             0\n",
       "996               0             1\n",
       "997               1             0\n",
       "\n",
       "[998 rows x 2 columns]"
      ]
     },
     "execution_count": 133,
     "metadata": {},
     "output_type": "execute_result"
    }
   ],
   "source": [
    "y_train"
   ]
  },
  {
   "cell_type": "code",
   "execution_count": 134,
   "metadata": {
    "executionInfo": {
     "elapsed": 6,
     "status": "ok",
     "timestamp": 1690235129520,
     "user": {
      "displayName": "Qingrun ZHANG",
      "userId": "01467426992177127579"
     },
     "user_tz": 360
    },
    "id": "QMQqENUbYXVV"
   },
   "outputs": [],
   "source": [
    "# the training process\n",
    "sklearn_lda = LDA(n_components=1) #creating a LDA object, the number of linear discriminants that we want to retrieve\n",
    "lda = sklearn_lda.fit(X_train, y_train.iloc[:,1]) #learning the projection matrix\n",
    "X_lda = lda.transform(X_train) #using the model to project X\n",
    "X_labels = lda.predict(X_train) #gives you the predicted label for each sample\n",
    "X_prob = lda.predict_proba(X_train) #the probability of each sample to belong to each class"
   ]
  },
  {
   "cell_type": "code",
   "execution_count": 135,
   "metadata": {
    "colab": {
     "base_uri": "https://localhost:8080/"
    },
    "executionInfo": {
     "elapsed": 167,
     "status": "ok",
     "timestamp": 1690235129682,
     "user": {
      "displayName": "Qingrun ZHANG",
      "userId": "01467426992177127579"
     },
     "user_tz": 360
    },
    "id": "yGKHFmMXYclX",
    "outputId": "0e849b4d-b1e6-49c7-85ce-32a4bc85673d",
    "scrolled": true
   },
   "outputs": [
    {
     "name": "stdout",
     "output_type": "stream",
     "text": [
      "[[0.48831053 0.51168947]\n",
      " [0.47980926 0.52019074]\n",
      " [0.46716317 0.53283683]\n",
      " [0.47616853 0.52383147]\n",
      " [0.49701005 0.50298995]]\n"
     ]
    }
   ],
   "source": [
    "# testing step\n",
    "X_test_labels =lda.predict(X_test)\n",
    "X_test_prob = lda.predict_proba(X_test)\n",
    "print(X_test_prob[0:5,:])"
   ]
  },
  {
   "cell_type": "code",
   "execution_count": 136,
   "metadata": {
    "colab": {
     "base_uri": "https://localhost:8080/"
    },
    "executionInfo": {
     "elapsed": 166,
     "status": "ok",
     "timestamp": 1690235129682,
     "user": {
      "displayName": "Qingrun ZHANG",
      "userId": "01467426992177127579"
     },
     "user_tz": 360
    },
    "id": "H2mIwiMsYhV4",
    "outputId": "290aa748-b653-4eb6-cfd7-2226efbedf7a"
   },
   "outputs": [
    {
     "data": {
      "text/plain": [
       "0.5873015873015873"
      ]
     },
     "execution_count": 136,
     "metadata": {},
     "output_type": "execute_result"
    }
   ],
   "source": [
    "# get the accuracy of the test set using default threshold\n",
    "np.mean(y_test.iloc[:,1]==X_test_labels)"
   ]
  },
  {
   "cell_type": "code",
   "execution_count": 137,
   "metadata": {
    "colab": {
     "base_uri": "https://localhost:8080/"
    },
    "executionInfo": {
     "elapsed": 10,
     "status": "ok",
     "timestamp": 1690235129682,
     "user": {
      "displayName": "Qingrun ZHANG",
      "userId": "01467426992177127579"
     },
     "user_tz": 360
    },
    "id": "Jb_4hBLfYqQ7",
    "outputId": "94c138aa-5195-493b-ac59-e88eabe9eea2"
   },
   "outputs": [
    {
     "data": {
      "text/plain": [
       "0.4603174603174603"
      ]
     },
     "execution_count": 137,
     "metadata": {},
     "output_type": "execute_result"
    }
   ],
   "source": [
    "# let's change the threshod a bit to see whether we can improve the accuracy.\n",
    "# the 2nd column of X_test_prob is the probability belongs to UP group.\n",
    "# the default value is 0.5\n",
    "threshold = 0.52\n",
    "np.mean(y_test.iloc[:,1]==(X_test_prob[:,1]>=threshold))"
   ]
  },
  {
   "cell_type": "code",
   "execution_count": 138,
   "metadata": {
    "colab": {
     "base_uri": "https://localhost:8080/"
    },
    "executionInfo": {
     "elapsed": 8,
     "status": "ok",
     "timestamp": 1690235129683,
     "user": {
      "displayName": "Qingrun ZHANG",
      "userId": "01467426992177127579"
     },
     "user_tz": 360
    },
    "id": "J-pFHOoCZVAF",
    "outputId": "5308fadd-3a18-4cc2-bf76-18f7b0262afe"
   },
   "outputs": [
    {
     "data": {
      "text/plain": [
       "0.5634920634920635"
      ]
     },
     "execution_count": 138,
     "metadata": {},
     "output_type": "execute_result"
    }
   ],
   "source": [
    "threshold = 0.48\n",
    "np.mean(y_test.iloc[:,1]==(X_test_prob[:,1]>=threshold))"
   ]
  },
  {
   "cell_type": "markdown",
   "metadata": {
    "id": "wHuB0jX5Zk8S"
   },
   "source": [
    "##  Quadratic Discriminant Analysis"
   ]
  },
  {
   "cell_type": "code",
   "execution_count": 139,
   "metadata": {
    "colab": {
     "base_uri": "https://localhost:8080/"
    },
    "executionInfo": {
     "elapsed": 6,
     "status": "ok",
     "timestamp": 1690235129683,
     "user": {
      "displayName": "Qingrun ZHANG",
      "userId": "01467426992177127579"
     },
     "user_tz": 360
    },
    "id": "46EE9IySZsV2",
    "outputId": "206a0d49-df06-44eb-b193-2456b7fe8983"
   },
   "outputs": [
    {
     "name": "stdout",
     "output_type": "stream",
     "text": [
      "0.5674603174603174\n"
     ]
    }
   ],
   "source": [
    "sklearn_qda = QDA(priors=None,store_covariance=True) #creating a QDA object\n",
    "qda = sklearn_qda.fit(X_train, y_train.iloc[:,1]) #learning the projection matrix\n",
    "X_labels = qda.predict(X_train) #gives you the predicted label for each sample\n",
    "X_prob = qda.predict_proba(X_train) #the probability of each sample to belong to each class\n",
    "\n",
    "X_test_labels=qda.predict(X_test)\n",
    "X_test_prob = qda.predict_proba(X_test)\n",
    "\n",
    "print(np.mean(y_test.iloc[:,1]==X_test_labels) )\n"
   ]
  },
  {
   "cell_type": "code",
   "execution_count": 140,
   "metadata": {
    "colab": {
     "base_uri": "https://localhost:8080/"
    },
    "executionInfo": {
     "elapsed": 6,
     "status": "ok",
     "timestamp": 1690235129684,
     "user": {
      "displayName": "Qingrun ZHANG",
      "userId": "01467426992177127579"
     },
     "user_tz": 360
    },
    "id": "em7fvRvGZ3wL",
    "outputId": "8ccd928d-5ffb-4986-8932-6dd13735320d"
   },
   "outputs": [
    {
     "name": "stdout",
     "output_type": "stream",
     "text": [
      "[[ 0.04279022  0.03389409 -0.00980652 -0.01059878  0.0043666 ]\n",
      " [-0.03954635 -0.03132544  0.00583432  0.00311045 -0.00065089]]\n",
      "[array([[ 1.50662277, -0.03924806, -0.1161981 ,  0.02773081,  0.10375151],\n",
      "       [-0.03924806,  1.53559498, -0.05837697,  0.00911436,  0.00535896],\n",
      "       [-0.1161981 , -0.05837697,  1.5261648 ,  0.02759497, -0.0866616 ],\n",
      "       [ 0.02773081,  0.00911436,  0.02759497,  1.60391547, -0.08697959],\n",
      "       [ 0.10375151,  0.00535896, -0.0866616 , -0.08697959,  1.44963901]]), array([[ 1.51700576, -0.02787349,  0.08140326, -0.03328334, -0.11218792],\n",
      "       [-0.02787349,  1.49026815, -0.00519942, -0.03974989, -0.01424049],\n",
      "       [ 0.08140326, -0.00519942,  1.51497806, -0.08359669,  0.02661005],\n",
      "       [-0.03328334, -0.03974989, -0.08359669,  1.44088396,  0.0176842 ],\n",
      "       [-0.11218792, -0.01424049,  0.02661005,  0.0176842 ,  1.63961971]])]\n"
     ]
    }
   ],
   "source": [
    "print(qda.means_)\n",
    "print(qda.covariance_)"
   ]
  },
  {
   "cell_type": "markdown",
   "metadata": {
    "id": "hlMgVrDZZ-Aj"
   },
   "source": [
    "##  Naive Bayes"
   ]
  },
  {
   "cell_type": "code",
   "execution_count": 141,
   "metadata": {
    "colab": {
     "base_uri": "https://localhost:8080/"
    },
    "executionInfo": {
     "elapsed": 174,
     "status": "ok",
     "timestamp": 1690235129853,
     "user": {
      "displayName": "Qingrun ZHANG",
      "userId": "01467426992177127579"
     },
     "user_tz": 360
    },
    "id": "VN3CRq_xZ9L0",
    "outputId": "08f0166c-66c5-4adf-cc53-d798cea51b4b"
   },
   "outputs": [
    {
     "name": "stdout",
     "output_type": "stream",
     "text": [
      "0.5793650793650794\n"
     ]
    }
   ],
   "source": [
    "NB_class = NB()\n",
    "NB_class.fit(X_train, y_train.iloc[:,1])\n",
    "X_test_labels=NB_class.predict(X_test)\n",
    "X_test_prob = NB_class.predict_proba(X_test)\n",
    "print(np.mean(y_test.iloc[:,1]==X_test_labels))\n"
   ]
  },
  {
   "cell_type": "markdown",
   "metadata": {
    "id": "ytlFHc84fdEQ"
   },
   "source": [
    "### Bayes classifier for the Breast Cancer Wisconsin dataset"
   ]
  },
  {
   "cell_type": "code",
   "execution_count": 142,
   "metadata": {
    "executionInfo": {
     "elapsed": 4,
     "status": "ok",
     "timestamp": 1690235130308,
     "user": {
      "displayName": "Qingrun ZHANG",
      "userId": "01467426992177127579"
     },
     "user_tz": 360
    },
    "id": "QGfbgK-_fcHK"
   },
   "outputs": [],
   "source": [
    "from sklearn.datasets import load_breast_cancer\n",
    "p = 5\n",
    "bunch = load_breast_cancer()\n"
   ]
  },
  {
   "cell_type": "code",
   "execution_count": 143,
   "metadata": {
    "colab": {
     "base_uri": "https://localhost:8080/"
    },
    "executionInfo": {
     "elapsed": 251,
     "status": "ok",
     "timestamp": 1690235130555,
     "user": {
      "displayName": "Qingrun ZHANG",
      "userId": "01467426992177127579"
     },
     "user_tz": 360
    },
    "id": "fXGyoSJdftsG",
    "outputId": "4d53900b-56b5-4c9c-b961-9ca37ac55858"
   },
   "outputs": [
    {
     "data": {
      "text/plain": [
       "sklearn.utils._bunch.Bunch"
      ]
     },
     "execution_count": 143,
     "metadata": {},
     "output_type": "execute_result"
    }
   ],
   "source": [
    "type(bunch)"
   ]
  },
  {
   "cell_type": "code",
   "execution_count": 144,
   "metadata": {
    "colab": {
     "base_uri": "https://localhost:8080/"
    },
    "executionInfo": {
     "elapsed": 9,
     "status": "ok",
     "timestamp": 1690235130555,
     "user": {
      "displayName": "Qingrun ZHANG",
      "userId": "01467426992177127579"
     },
     "user_tz": 360
    },
    "id": "OU1yZECVf628",
    "outputId": "780022fd-bf7b-4f78-c9e5-fe81beff72da"
   },
   "outputs": [
    {
     "data": {
      "text/plain": [
       "numpy.ndarray"
      ]
     },
     "execution_count": 144,
     "metadata": {},
     "output_type": "execute_result"
    }
   ],
   "source": [
    "type(bunch.data)"
   ]
  },
  {
   "cell_type": "code",
   "execution_count": 145,
   "metadata": {
    "colab": {
     "base_uri": "https://localhost:8080/"
    },
    "executionInfo": {
     "elapsed": 8,
     "status": "ok",
     "timestamp": 1690235130556,
     "user": {
      "displayName": "Qingrun ZHANG",
      "userId": "01467426992177127579"
     },
     "user_tz": 360
    },
    "id": "Qk9PUEY7gPN0",
    "outputId": "2224094e-ce5b-4ccf-9726-d3605b13c50c"
   },
   "outputs": [
    {
     "data": {
      "text/plain": [
       "(569, 30)"
      ]
     },
     "execution_count": 145,
     "metadata": {},
     "output_type": "execute_result"
    }
   ],
   "source": [
    "bunch.data.shape"
   ]
  },
  {
   "cell_type": "code",
   "execution_count": 146,
   "metadata": {
    "colab": {
     "base_uri": "https://localhost:8080/"
    },
    "executionInfo": {
     "elapsed": 7,
     "status": "ok",
     "timestamp": 1690235130557,
     "user": {
      "displayName": "Qingrun ZHANG",
      "userId": "01467426992177127579"
     },
     "user_tz": 360
    },
    "id": "vYn6y75jgWf_",
    "outputId": "b5f928fc-ed3d-472c-af55-5b8cdd3d8d3d"
   },
   "outputs": [
    {
     "data": {
      "text/plain": [
       "array(['mean radius', 'mean texture', 'mean perimeter', 'mean area',\n",
       "       'mean smoothness', 'mean compactness', 'mean concavity',\n",
       "       'mean concave points', 'mean symmetry', 'mean fractal dimension',\n",
       "       'radius error', 'texture error', 'perimeter error', 'area error',\n",
       "       'smoothness error', 'compactness error', 'concavity error',\n",
       "       'concave points error', 'symmetry error',\n",
       "       'fractal dimension error', 'worst radius', 'worst texture',\n",
       "       'worst perimeter', 'worst area', 'worst smoothness',\n",
       "       'worst compactness', 'worst concavity', 'worst concave points',\n",
       "       'worst symmetry', 'worst fractal dimension'], dtype='<U23')"
      ]
     },
     "execution_count": 146,
     "metadata": {},
     "output_type": "execute_result"
    }
   ],
   "source": [
    "bunch.feature_names"
   ]
  },
  {
   "cell_type": "code",
   "execution_count": 147,
   "metadata": {
    "executionInfo": {
     "elapsed": 6,
     "status": "ok",
     "timestamp": 1690235130557,
     "user": {
      "displayName": "Qingrun ZHANG",
      "userId": "01467426992177127579"
     },
     "user_tz": 360
    },
    "id": "HVpYr8yqfmuG"
   },
   "outputs": [
    {
     "name": "stdout",
     "output_type": "stream",
     "text": [
      "(569, 5)\n"
     ]
    }
   ],
   "source": [
    "X = bunch.data[:,:5]\n",
    "y = bunch.target\n",
    "features = bunch.feature_names[:p]\n",
    "targets = bunch.target_names\n",
    "X_tr, X_te, y_tr, y_te = train_test_split(X, y, test_size=0.2)\n",
    "print(X.shape)"
   ]
  },
  {
   "cell_type": "code",
   "execution_count": 148,
   "metadata": {
    "colab": {
     "base_uri": "https://localhost:8080/"
    },
    "executionInfo": {
     "elapsed": 6,
     "status": "ok",
     "timestamp": 1690235130557,
     "user": {
      "displayName": "Qingrun ZHANG",
      "userId": "01467426992177127579"
     },
     "user_tz": 360
    },
    "id": "irikYLsSgd_Y",
    "outputId": "508e5a42-94f7-45d8-a7cb-2db27ac9d080"
   },
   "outputs": [
    {
     "name": "stdout",
     "output_type": "stream",
     "text": [
      "569 ['mean radius' 'mean texture' 'mean perimeter' 'mean area'\n",
      " 'mean smoothness'] ['malignant' 'benign']\n"
     ]
    }
   ],
   "source": [
    "print(len(X), features, targets)"
   ]
  },
  {
   "cell_type": "code",
   "execution_count": 149,
   "metadata": {
    "colab": {
     "base_uri": "https://localhost:8080/",
     "height": 1000
    },
    "executionInfo": {
     "elapsed": 1590,
     "status": "ok",
     "timestamp": 1690235132143,
     "user": {
      "displayName": "Qingrun ZHANG",
      "userId": "01467426992177127579"
     },
     "user_tz": 360
    },
    "id": "xb4lVhfcglGb",
    "outputId": "9b2667fe-b181-41d9-d857-f57cddb52d76"
   },
   "outputs": [
    {
     "data": {
      "image/png": "[encoded data removed]",
      "text/plain": [
       "<Figure size 700x2500 with 5 Axes>"
      ]
     },
     "metadata": {},
     "output_type": "display_data"
    }
   ],
   "source": [
    "from scipy.stats import norm\n",
    "\n",
    "fig, axes = plt.subplots(p, 1, figsize=(7,5*p))\n",
    "for j in range(p):\n",
    "    bins = np.linspace(X_tr[:,j].min(), X_tr[:,j].max(), 15)\n",
    "    axes[j].hist(X_tr[y_tr == 0, j], bins=bins, density=True, color=(1,0,0,0.3), label=f\"{targets[0]} (0)\")\n",
    "    axes[j].hist(X_tr[y_tr == 1, j], bins=bins, density=True, color=(0,0,1,0.3), label=f\"{targets[1]} (1)\")\n",
    "\n",
    "    params_0 = norm.fit(X_tr[y_tr == 0, j])\n",
    "    params_1 = norm.fit(X_tr[y_tr == 1, j])\n",
    "    dist_0 = norm(*params_0)\n",
    "    dist_1 = norm(*params_1)\n",
    "    t = np.linspace(X_tr[:,j].min(), X_tr[:,j].max(), 100)\n",
    "    axes[j].plot(t, dist_0.pdf(t), color=(1,0,0,0.3), lw=3)\n",
    "    axes[j].plot(t, dist_1.pdf(t), color=(0,0,1,0.3), lw=3)\n",
    "\n",
    "    axes[j].set_xlabel(features[j], fontsize=18)\n",
    "    axes[j].legend()"
   ]
  },
  {
   "cell_type": "markdown",
   "metadata": {
    "id": "EA4RjG8zg1cJ"
   },
   "source": [
    "The marginals look reasonably Gaussian, so let's try modeling the class-conditional distributions by 5-dimensional Gaussians."
   ]
  },
  {
   "cell_type": "code",
   "execution_count": 150,
   "metadata": {
    "colab": {
     "base_uri": "https://localhost:8080/"
    },
    "executionInfo": {
     "elapsed": 6,
     "status": "ok",
     "timestamp": 1690235132145,
     "user": {
      "displayName": "Qingrun ZHANG",
      "userId": "01467426992177127579"
     },
     "user_tz": 360
    },
    "id": "N_Yl1l-ZhZRl",
    "outputId": "317c82ea-2fb4-42b0-c6e7-8cf9d4637a94"
   },
   "outputs": [
    {
     "name": "stdout",
     "output_type": "stream",
     "text": [
      "0.8859649122807017\n"
     ]
    }
   ],
   "source": [
    "from sklearn.naive_bayes import GaussianNB\n",
    "\n",
    "model = GaussianNB()\n",
    "model.fit(X_tr, y_tr)\n",
    "acc_te = accuracy_score(y_te, model.predict(X_te))\n",
    "print(acc_te)"
   ]
  },
  {
   "cell_type": "markdown",
   "metadata": {
    "id": "YVhD3lgAGkaw"
   },
   "source": [
    "Gaussian Bayes Classifier assume the features follow multivariate normal distribution.\n",
    "The following code help to build you own Gaussian Bayes Classifier"
   ]
  },
  {
   "cell_type": "code",
   "execution_count": 151,
   "metadata": {
    "executionInfo": {
     "elapsed": 375,
     "status": "ok",
     "timestamp": 1690235132515,
     "user": {
      "displayName": "Qingrun ZHANG",
      "userId": "01467426992177127579"
     },
     "user_tz": 360
    },
    "id": "6-mGwK4QGtIc"
   },
   "outputs": [],
   "source": [
    "from sklearn.base import BaseEstimator, ClassifierMixin\n",
    "from sklearn.utils.estimator_checks import check_estimator\n",
    "from sklearn.utils.validation import check_X_y, check_array, check_is_fitted\n",
    "from sklearn.utils.multiclass import unique_labels\n",
    "from scipy.stats import multivariate_normal\n",
    "\n",
    "class GaussianBayesClassifier(BaseEstimator, ClassifierMixin):\n",
    "\n",
    "    def fit(self, X, y):\n",
    "        X, y = check_X_y(X, y)\n",
    "        self.classes_ = unique_labels(y)\n",
    "        self.priors_ = [np.mean(y == c) for c in self.classes_]\n",
    "        self.means_ = [np.mean(X[y == c], axis=0) for c in self.classes_]\n",
    "        self.covs_ = [np.cov(X[y == c], rowvar=False) for c in self.classes_]\n",
    "        self.n_features_in_ = X.shape[1]\n",
    "        return self\n",
    "\n",
    "    def predict(self, X):\n",
    "        check_is_fitted(self)\n",
    "        X = check_array(X)\n",
    "        posteriors = np.zeros((len(X), len(self.classes_)))\n",
    "        for j, (prior, mean, cov) in enumerate(zip(self.priors_, self.means_, self.covs_)):\n",
    "          mvn = multivariate_normal(mean=mean, cov=cov)\n",
    "          posteriors[:, j] = mvn.pdf(X)*prior\n",
    "        y_pred = self.classes_[posteriors.argmax(axis=1)]\n",
    "        return y_pred"
   ]
  },
  {
   "cell_type": "markdown",
   "metadata": {},
   "source": [
    "In addition to NB, try using LDA and QDA for this data set to see which model would be a good fit. "
   ]
  },
  {
   "cell_type": "code",
   "execution_count": null,
   "metadata": {},
   "outputs": [],
   "source": []
  }
 ],
 "metadata": {
  "colab": {
   "authorship_tag": "ABX9TyMfJhoTVT9A9WGuSeyc3aj5",
   "provenance": []
  },
  "kernelspec": {
   "display_name": "Python 3 (ipykernel)",
   "language": "python",
   "name": "python3"
  },
  "language_info": {
   "codemirror_mode": {
    "name": "ipython",
    "version": 3
   },
   "file_extension": ".py",
   "mimetype": "text/x-python",
   "name": "python",
   "nbconvert_exporter": "python",
   "pygments_lexer": "ipython3",
   "version": "3.11.6"
  }
 },
 "nbformat": 4,
 "nbformat_minor": 4
}
